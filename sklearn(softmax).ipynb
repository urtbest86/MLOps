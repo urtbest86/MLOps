{
  "nbformat": 4,
  "nbformat_minor": 0,
  "metadata": {
    "colab": {
      "name": "sklearn.ipynb",
      "provenance": [],
      "collapsed_sections": [],
      "include_colab_link": true
    },
    "kernelspec": {
      "name": "python3",
      "display_name": "Python 3"
    },
    "language_info": {
      "name": "python"
    }
  },
  "cells": [
    {
      "cell_type": "markdown",
      "metadata": {
        "id": "view-in-github",
        "colab_type": "text"
      },
      "source": [
        "<a href=\"https://colab.research.google.com/github/urtbest86/MLOps/blob/master/sklearn(softmax)ipynb\" target=\"_parent\"><img src=\"https://colab.research.google.com/assets/colab-badge.svg\" alt=\"Open In Colab\"/></a>"
      ]
    },
    {
      "cell_type": "code",
      "metadata": {
        "id": "QJbY3x4wQE03"
      },
      "source": [
        "import pandas as pd\n",
        "import numpy as np\n",
        "from tensorflow.keras.models import Sequential\n",
        "from tensorflow.keras.layers import Dense"
      ],
      "execution_count": 118,
      "outputs": []
    },
    {
      "cell_type": "markdown",
      "metadata": {
        "id": "OwBJoy4DdpuY"
      },
      "source": [
        ""
      ]
    },
    {
      "cell_type": "code",
      "metadata": {
        "colab": {
          "resources": {
            "http://localhost:8080/nbextensions/google.colab/files.js": {
              "data": "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",
              "ok": true,
              "headers": [
                [
                  "content-type",
                  "application/javascript"
                ]
              ],
              "status": 200,
              "status_text": ""
            }
          },
          "base_uri": "https://localhost:8080/",
          "height": 72
        },
        "id": "WvZubhuiQIwP",
        "outputId": "105eadcb-8487-414f-f94e-6f31297bcd15"
      },
      "source": [
        "from google.colab import files\n",
        "import io\n",
        "data = files.upload()"
      ],
      "execution_count": 119,
      "outputs": [
        {
          "output_type": "display_data",
          "data": {
            "text/html": [
              "\n",
              "     <input type=\"file\" id=\"files-8278081a-e0ce-4234-86d3-ae2fbbfb6d28\" name=\"files[]\" multiple disabled\n",
              "        style=\"border:none\" />\n",
              "     <output id=\"result-8278081a-e0ce-4234-86d3-ae2fbbfb6d28\">\n",
              "      Upload widget is only available when the cell has been executed in the\n",
              "      current browser session. Please rerun this cell to enable.\n",
              "      </output>\n",
              "      <script src=\"/nbextensions/google.colab/files.js\"></script> "
            ],
            "text/plain": [
              "<IPython.core.display.HTML object>"
            ]
          },
          "metadata": {}
        },
        {
          "output_type": "stream",
          "name": "stdout",
          "text": [
            "Saving result.csv to result (4).csv\n"
          ]
        }
      ]
    },
    {
      "cell_type": "code",
      "metadata": {
        "id": "zAY4X4A5QI39"
      },
      "source": [
        "df = pd.read_csv('result.csv')"
      ],
      "execution_count": 120,
      "outputs": []
    },
    {
      "cell_type": "code",
      "metadata": {
        "id": "QbuCnUhLQI7O"
      },
      "source": [
        "train=df.sample(frac=0.8)\n",
        "test=df.sample(frac=0.2)"
      ],
      "execution_count": 121,
      "outputs": []
    },
    {
      "cell_type": "code",
      "metadata": {
        "id": "crGyIXEh5dfi"
      },
      "source": [
        "mean = train.mean(axis=0)\n",
        "train -= mean\n",
        "std = train.std(axis=0)\n",
        "train /= std\n",
        "\n",
        "test -= mean\n",
        "test /= std"
      ],
      "execution_count": 122,
      "outputs": []
    },
    {
      "cell_type": "code",
      "metadata": {
        "id": "X4ACu2b2QI-O"
      },
      "source": [
        "train_data_set = train.values\n",
        "x_train = train_data_set[:, 2:-1].astype(float)\n",
        "y_train = train_data_set[:, -1].astype(float)"
      ],
      "execution_count": 123,
      "outputs": []
    },
    {
      "cell_type": "code",
      "metadata": {
        "id": "chZ5qJ_BRrdB"
      },
      "source": [
        "test_data_set = test.values\n",
        "x_test = test_data_set[:, 2:-1].astype(float)\n",
        "y_test = test_data_set[:, -1].astype(float)"
      ],
      "execution_count": 124,
      "outputs": []
    },
    {
      "cell_type": "code",
      "metadata": {
        "colab": {
          "base_uri": "https://localhost:8080/"
        },
        "id": "cdoU1y_-QJBF",
        "outputId": "34a433c8-1c0f-44b6-92b4-58da964fb7a1"
      },
      "source": [
        "from sklearn.linear_model import LinearRegression\n",
        "\n",
        "mlr = LinearRegression()\n",
        "mlr.fit(x_train, y_train)"
      ],
      "execution_count": 125,
      "outputs": [
        {
          "output_type": "execute_result",
          "data": {
            "text/plain": [
              "LinearRegression(copy_X=True, fit_intercept=True, n_jobs=None, normalize=False)"
            ]
          },
          "metadata": {},
          "execution_count": 125
        }
      ]
    },
    {
      "cell_type": "code",
      "metadata": {
        "colab": {
          "base_uri": "https://localhost:8080/",
          "height": 283
        },
        "id": "eCHHile3QJDl",
        "outputId": "0b3990b4-e8a0-4e66-ef30-b70b5d523a5e"
      },
      "source": [
        "import matplotlib.pyplot as plt\n",
        "\n",
        "plt.plot(mlr.predict(x_test), label=\"predict\")\n",
        "y_t=y_test.reshape(-1,1)\n",
        "plt.plot(y_test, label=\"real price\")\n",
        "plt.legend()"
      ],
      "execution_count": 126,
      "outputs": [
        {
          "output_type": "execute_result",
          "data": {
            "text/plain": [
              "<matplotlib.legend.Legend at 0x7f963ec5fed0>"
            ]
          },
          "metadata": {},
          "execution_count": 126
        },
        {
          "output_type": "display_data",
          "data": {
            "image/png": "[encoded data removed]",
            "text/plain": [
              "<Figure size 432x288 with 1 Axes>"
            ]
          },
          "metadata": {
            "needs_background": "light"
          }
        }
      ]
    },
    {
      "cell_type": "code",
      "metadata": {
        "id": "vpnvoSNUQJGX"
      },
      "source": [
        "\n",
        "from tensorflow.keras.models import Sequential\n",
        "from tensorflow.keras.layers import Dense\n",
        "\n",
        "model = Sequential()\n",
        "model.add(Dense(1024, input_dim = 11, activation='softmax'))\n",
        "model.add(Dense(500,activation='softmax'))\n",
        "model.add(Dense(300,activation='softmax'))\n",
        "model.add(Dense(200,activation='softmax'))\n",
        "model.add(Dense(1))"
      ],
      "execution_count": 127,
      "outputs": []
    },
    {
      "cell_type": "code",
      "metadata": {
        "id": "FccnZKMlYXmt"
      },
      "source": [
        "model.compile(loss='mse', optimizer='adam',metrics=['mae'])"
      ],
      "execution_count": 128,
      "outputs": []
    },
    {
      "cell_type": "code",
      "metadata": {
        "colab": {
          "base_uri": "https://localhost:8080/"
        },
        "id": "j0UmXBFEYXyr",
        "outputId": "df473dfe-0ad5-4542-f42d-c26a7cb8bf98"
      },
      "source": [
        "hist=model.fit(x_train, y_train, epochs=200, batch_size=32)"
      ],
      "execution_count": 129,
      "outputs": [
        {
          "output_type": "stream",
          "name": "stdout",
          "text": [
            "Epoch 1/200\n",
            "26/26 [==============================] - 1s 13ms/step - loss: 0.9991 - mae: 0.8237\n",
            "Epoch 2/200\n",
            "26/26 [==============================] - 0s 11ms/step - loss: 0.9989 - mae: 0.8236\n",
            "Epoch 3/200\n",
            "26/26 [==============================] - 0s 12ms/step - loss: 0.9989 - mae: 0.8236\n",
            "Epoch 4/200\n",
            "26/26 [==============================] - 0s 13ms/step - loss: 0.9993 - mae: 0.8240\n",
            "Epoch 5/200\n",
            "26/26 [==============================] - 0s 13ms/step - loss: 0.9988 - mae: 0.8236\n",
            "Epoch 6/200\n",
            "26/26 [==============================] - 0s 12ms/step - loss: 0.9990 - mae: 0.8236\n",
            "Epoch 7/200\n",
            "26/26 [==============================] - 0s 12ms/step - loss: 0.9989 - mae: 0.8234\n",
            "Epoch 8/200\n",
            "26/26 [==============================] - 0s 12ms/step - loss: 0.9989 - mae: 0.8234\n",
            "Epoch 9/200\n",
            "26/26 [==============================] - 0s 12ms/step - loss: 0.9992 - mae: 0.8236\n",
            "Epoch 10/200\n",
            "26/26 [==============================] - 0s 11ms/step - loss: 0.9988 - mae: 0.8233\n",
            "Epoch 11/200\n",
            "26/26 [==============================] - 0s 12ms/step - loss: 0.9989 - mae: 0.8235\n",
            "Epoch 12/200\n",
            "26/26 [==============================] - 0s 12ms/step - loss: 0.9991 - mae: 0.8238\n",
            "Epoch 13/200\n",
            "26/26 [==============================] - 0s 11ms/step - loss: 0.9990 - mae: 0.8235\n",
            "Epoch 14/200\n",
            "26/26 [==============================] - 0s 12ms/step - loss: 0.9990 - mae: 0.8237\n",
            "Epoch 15/200\n",
            "26/26 [==============================] - 0s 12ms/step - loss: 0.9989 - mae: 0.8236\n",
            "Epoch 16/200\n",
            "26/26 [==============================] - 0s 11ms/step - loss: 0.9988 - mae: 0.8235\n",
            "Epoch 17/200\n",
            "26/26 [==============================] - 0s 12ms/step - loss: 0.9990 - mae: 0.8235\n",
            "Epoch 18/200\n",
            "26/26 [==============================] - 0s 11ms/step - loss: 0.9989 - mae: 0.8235\n",
            "Epoch 19/200\n",
            "26/26 [==============================] - 0s 11ms/step - loss: 0.9989 - mae: 0.8237\n",
            "Epoch 20/200\n",
            "26/26 [==============================] - 0s 12ms/step - loss: 0.9990 - mae: 0.8235\n",
            "Epoch 21/200\n",
            "26/26 [==============================] - 0s 12ms/step - loss: 0.9990 - mae: 0.8236\n",
            "Epoch 22/200\n",
            "26/26 [==============================] - 0s 11ms/step - loss: 0.9993 - mae: 0.8238\n",
            "Epoch 23/200\n",
            "26/26 [==============================] - 0s 12ms/step - loss: 0.9992 - mae: 0.8235\n",
            "Epoch 24/200\n",
            "26/26 [==============================] - 0s 11ms/step - loss: 0.9989 - mae: 0.8235\n",
            "Epoch 25/200\n",
            "26/26 [==============================] - 0s 11ms/step - loss: 0.9989 - mae: 0.8235\n",
            "Epoch 26/200\n",
            "26/26 [==============================] - 0s 12ms/step - loss: 0.9989 - mae: 0.8235\n",
            "Epoch 27/200\n",
            "26/26 [==============================] - 0s 11ms/step - loss: 0.9990 - mae: 0.8236\n",
            "Epoch 28/200\n",
            "26/26 [==============================] - 0s 12ms/step - loss: 0.9992 - mae: 0.8235\n",
            "Epoch 29/200\n",
            "26/26 [==============================] - 0s 11ms/step - loss: 0.9989 - mae: 0.8235\n",
            "Epoch 30/200\n",
            "26/26 [==============================] - 0s 12ms/step - loss: 0.9989 - mae: 0.8235\n",
            "Epoch 31/200\n",
            "26/26 [==============================] - 0s 12ms/step - loss: 0.9990 - mae: 0.8238\n",
            "Epoch 32/200\n",
            "26/26 [==============================] - 0s 11ms/step - loss: 0.9992 - mae: 0.8237\n",
            "Epoch 33/200\n",
            "26/26 [==============================] - 0s 12ms/step - loss: 0.9989 - mae: 0.8234\n",
            "Epoch 34/200\n",
            "26/26 [==============================] - 0s 12ms/step - loss: 0.9991 - mae: 0.8238\n",
            "Epoch 35/200\n",
            "26/26 [==============================] - 0s 11ms/step - loss: 0.9994 - mae: 0.8235\n",
            "Epoch 36/200\n",
            "26/26 [==============================] - 0s 11ms/step - loss: 0.9993 - mae: 0.8234\n",
            "Epoch 37/200\n",
            "26/26 [==============================] - 0s 11ms/step - loss: 0.9988 - mae: 0.8234\n",
            "Epoch 38/200\n",
            "26/26 [==============================] - 0s 11ms/step - loss: 0.9992 - mae: 0.8238\n",
            "Epoch 39/200\n",
            "26/26 [==============================] - 0s 10ms/step - loss: 0.9990 - mae: 0.8236\n",
            "Epoch 40/200\n",
            "26/26 [==============================] - 0s 11ms/step - loss: 0.9989 - mae: 0.8236\n",
            "Epoch 41/200\n",
            "26/26 [==============================] - 0s 12ms/step - loss: 0.9991 - mae: 0.8237\n",
            "Epoch 42/200\n",
            "26/26 [==============================] - 0s 11ms/step - loss: 0.9990 - mae: 0.8235\n",
            "Epoch 43/200\n",
            "26/26 [==============================] - 0s 11ms/step - loss: 0.9992 - mae: 0.8235\n",
            "Epoch 44/200\n",
            "26/26 [==============================] - 0s 12ms/step - loss: 0.9990 - mae: 0.8237\n",
            "Epoch 45/200\n",
            "26/26 [==============================] - 0s 11ms/step - loss: 0.9988 - mae: 0.8236\n",
            "Epoch 46/200\n",
            "26/26 [==============================] - 0s 11ms/step - loss: 0.9989 - mae: 0.8236\n",
            "Epoch 47/200\n",
            "26/26 [==============================] - 0s 12ms/step - loss: 0.9993 - mae: 0.8239\n",
            "Epoch 48/200\n",
            "26/26 [==============================] - 0s 12ms/step - loss: 0.9989 - mae: 0.8237\n",
            "Epoch 49/200\n",
            "26/26 [==============================] - 0s 11ms/step - loss: 0.9991 - mae: 0.8236\n",
            "Epoch 50/200\n",
            "26/26 [==============================] - 0s 11ms/step - loss: 0.9990 - mae: 0.8234\n",
            "Epoch 51/200\n",
            "26/26 [==============================] - 0s 12ms/step - loss: 0.9990 - mae: 0.8233\n",
            "Epoch 52/200\n",
            "26/26 [==============================] - 0s 12ms/step - loss: 0.9989 - mae: 0.8234\n",
            "Epoch 53/200\n",
            "26/26 [==============================] - 0s 11ms/step - loss: 0.9990 - mae: 0.8237\n",
            "Epoch 54/200\n",
            "26/26 [==============================] - 0s 12ms/step - loss: 0.9988 - mae: 0.8235\n",
            "Epoch 55/200\n",
            "26/26 [==============================] - 0s 12ms/step - loss: 0.9990 - mae: 0.8236\n",
            "Epoch 56/200\n",
            "26/26 [==============================] - 0s 11ms/step - loss: 0.9989 - mae: 0.8235\n",
            "Epoch 57/200\n",
            "26/26 [==============================] - 0s 12ms/step - loss: 0.9994 - mae: 0.8240\n",
            "Epoch 58/200\n",
            "26/26 [==============================] - 0s 12ms/step - loss: 0.9989 - mae: 0.8236\n",
            "Epoch 59/200\n",
            "26/26 [==============================] - 0s 12ms/step - loss: 0.9989 - mae: 0.8236\n",
            "Epoch 60/200\n",
            "26/26 [==============================] - 0s 11ms/step - loss: 0.9991 - mae: 0.8235\n",
            "Epoch 61/200\n",
            "26/26 [==============================] - 0s 12ms/step - loss: 0.9992 - mae: 0.8234\n",
            "Epoch 62/200\n",
            "26/26 [==============================] - 0s 12ms/step - loss: 0.9992 - mae: 0.8238\n",
            "Epoch 63/200\n",
            "26/26 [==============================] - 0s 12ms/step - loss: 0.9990 - mae: 0.8236\n",
            "Epoch 64/200\n",
            "26/26 [==============================] - 0s 12ms/step - loss: 0.9989 - mae: 0.8236\n",
            "Epoch 65/200\n",
            "26/26 [==============================] - 0s 12ms/step - loss: 0.9995 - mae: 0.8241\n",
            "Epoch 66/200\n",
            "26/26 [==============================] - 0s 11ms/step - loss: 0.9991 - mae: 0.8235\n",
            "Epoch 67/200\n",
            "26/26 [==============================] - 0s 12ms/step - loss: 0.9989 - mae: 0.8233\n",
            "Epoch 68/200\n",
            "26/26 [==============================] - 0s 12ms/step - loss: 0.9989 - mae: 0.8234\n",
            "Epoch 69/200\n",
            "26/26 [==============================] - 0s 12ms/step - loss: 0.9989 - mae: 0.8235\n",
            "Epoch 70/200\n",
            "26/26 [==============================] - 0s 12ms/step - loss: 0.9990 - mae: 0.8236\n",
            "Epoch 71/200\n",
            "26/26 [==============================] - 0s 12ms/step - loss: 0.9992 - mae: 0.8238\n",
            "Epoch 72/200\n",
            "26/26 [==============================] - 0s 13ms/step - loss: 0.9989 - mae: 0.8236\n",
            "Epoch 73/200\n",
            "26/26 [==============================] - 0s 13ms/step - loss: 0.9988 - mae: 0.8235\n",
            "Epoch 74/200\n",
            "26/26 [==============================] - 0s 11ms/step - loss: 0.9989 - mae: 0.8235\n",
            "Epoch 75/200\n",
            "26/26 [==============================] - 0s 11ms/step - loss: 0.9990 - mae: 0.8235\n",
            "Epoch 76/200\n",
            "26/26 [==============================] - 0s 12ms/step - loss: 0.9989 - mae: 0.8234\n",
            "Epoch 77/200\n",
            "26/26 [==============================] - 0s 12ms/step - loss: 0.9989 - mae: 0.8235\n",
            "Epoch 78/200\n",
            "26/26 [==============================] - 0s 11ms/step - loss: 0.9989 - mae: 0.8235\n",
            "Epoch 79/200\n",
            "26/26 [==============================] - 0s 11ms/step - loss: 0.9990 - mae: 0.8236\n",
            "Epoch 80/200\n",
            "26/26 [==============================] - 0s 12ms/step - loss: 0.9990 - mae: 0.8235\n",
            "Epoch 81/200\n",
            "26/26 [==============================] - 0s 12ms/step - loss: 0.9989 - mae: 0.8235\n",
            "Epoch 82/200\n",
            "26/26 [==============================] - 0s 11ms/step - loss: 0.9990 - mae: 0.8237\n",
            "Epoch 83/200\n",
            "26/26 [==============================] - 0s 11ms/step - loss: 0.9989 - mae: 0.8236\n",
            "Epoch 84/200\n",
            "26/26 [==============================] - 0s 12ms/step - loss: 0.9990 - mae: 0.8235\n",
            "Epoch 85/200\n",
            "26/26 [==============================] - 0s 11ms/step - loss: 0.9990 - mae: 0.8235\n",
            "Epoch 86/200\n",
            "26/26 [==============================] - 0s 12ms/step - loss: 0.9992 - mae: 0.8236\n",
            "Epoch 87/200\n",
            "26/26 [==============================] - 0s 11ms/step - loss: 0.9989 - mae: 0.8235\n",
            "Epoch 88/200\n",
            "26/26 [==============================] - 0s 12ms/step - loss: 0.9989 - mae: 0.8235\n",
            "Epoch 89/200\n",
            "26/26 [==============================] - 0s 12ms/step - loss: 0.9989 - mae: 0.8235\n",
            "Epoch 90/200\n",
            "26/26 [==============================] - 0s 11ms/step - loss: 0.9989 - mae: 0.8235\n",
            "Epoch 91/200\n",
            "26/26 [==============================] - 0s 11ms/step - loss: 0.9989 - mae: 0.8234\n",
            "Epoch 92/200\n",
            "26/26 [==============================] - 0s 12ms/step - loss: 0.9991 - mae: 0.8236\n",
            "Epoch 93/200\n",
            "26/26 [==============================] - 0s 11ms/step - loss: 0.9991 - mae: 0.8236\n",
            "Epoch 94/200\n",
            "26/26 [==============================] - 0s 11ms/step - loss: 0.9993 - mae: 0.8236\n",
            "Epoch 95/200\n",
            "26/26 [==============================] - 0s 11ms/step - loss: 0.9991 - mae: 0.8235\n",
            "Epoch 96/200\n",
            "26/26 [==============================] - 0s 11ms/step - loss: 0.9993 - mae: 0.8238\n",
            "Epoch 97/200\n",
            "26/26 [==============================] - 0s 11ms/step - loss: 0.9992 - mae: 0.8236\n",
            "Epoch 98/200\n",
            "26/26 [==============================] - 0s 12ms/step - loss: 0.9990 - mae: 0.8236\n",
            "Epoch 99/200\n",
            "26/26 [==============================] - 0s 11ms/step - loss: 0.9991 - mae: 0.8235\n",
            "Epoch 100/200\n",
            "26/26 [==============================] - 0s 11ms/step - loss: 0.9989 - mae: 0.8235\n",
            "Epoch 101/200\n",
            "26/26 [==============================] - 0s 12ms/step - loss: 0.9993 - mae: 0.8238\n",
            "Epoch 102/200\n",
            "26/26 [==============================] - 0s 11ms/step - loss: 0.9990 - mae: 0.8236\n",
            "Epoch 103/200\n",
            "26/26 [==============================] - 0s 12ms/step - loss: 0.9991 - mae: 0.8235\n",
            "Epoch 104/200\n",
            "26/26 [==============================] - 0s 11ms/step - loss: 0.9988 - mae: 0.8234\n",
            "Epoch 105/200\n",
            "26/26 [==============================] - 0s 12ms/step - loss: 0.9989 - mae: 0.8235\n",
            "Epoch 106/200\n",
            "26/26 [==============================] - 0s 11ms/step - loss: 0.9996 - mae: 0.8241\n",
            "Epoch 107/200\n",
            "26/26 [==============================] - 0s 11ms/step - loss: 0.9989 - mae: 0.8235\n",
            "Epoch 108/200\n",
            "26/26 [==============================] - 0s 12ms/step - loss: 0.9995 - mae: 0.8237\n",
            "Epoch 109/200\n",
            "26/26 [==============================] - 0s 12ms/step - loss: 0.9989 - mae: 0.8235\n",
            "Epoch 110/200\n",
            "26/26 [==============================] - 0s 12ms/step - loss: 0.9988 - mae: 0.8235\n",
            "Epoch 111/200\n",
            "26/26 [==============================] - 0s 12ms/step - loss: 0.9991 - mae: 0.8237\n",
            "Epoch 112/200\n",
            "26/26 [==============================] - 0s 12ms/step - loss: 0.9989 - mae: 0.8236\n",
            "Epoch 113/200\n",
            "26/26 [==============================] - 0s 12ms/step - loss: 0.9989 - mae: 0.8234\n",
            "Epoch 114/200\n",
            "26/26 [==============================] - 0s 13ms/step - loss: 0.9990 - mae: 0.8234\n",
            "Epoch 115/200\n",
            "26/26 [==============================] - 0s 11ms/step - loss: 0.9990 - mae: 0.8236\n",
            "Epoch 116/200\n",
            "26/26 [==============================] - 0s 12ms/step - loss: 0.9989 - mae: 0.8235\n",
            "Epoch 117/200\n",
            "26/26 [==============================] - 0s 11ms/step - loss: 0.9989 - mae: 0.8235\n",
            "Epoch 118/200\n",
            "26/26 [==============================] - 0s 12ms/step - loss: 0.9993 - mae: 0.8235\n",
            "Epoch 119/200\n",
            "26/26 [==============================] - 0s 12ms/step - loss: 0.9989 - mae: 0.8234\n",
            "Epoch 120/200\n",
            "26/26 [==============================] - 0s 11ms/step - loss: 0.9990 - mae: 0.8236\n",
            "Epoch 121/200\n",
            "26/26 [==============================] - 0s 14ms/step - loss: 0.9989 - mae: 0.8235\n",
            "Epoch 122/200\n",
            "26/26 [==============================] - 0s 12ms/step - loss: 0.9989 - mae: 0.8235\n",
            "Epoch 123/200\n",
            "26/26 [==============================] - 0s 12ms/step - loss: 0.9989 - mae: 0.8235\n",
            "Epoch 124/200\n",
            "26/26 [==============================] - 0s 12ms/step - loss: 0.9990 - mae: 0.8234\n",
            "Epoch 125/200\n",
            "26/26 [==============================] - 0s 13ms/step - loss: 0.9992 - mae: 0.8237\n",
            "Epoch 126/200\n",
            "26/26 [==============================] - 0s 12ms/step - loss: 0.9995 - mae: 0.8236\n",
            "Epoch 127/200\n",
            "26/26 [==============================] - 0s 12ms/step - loss: 0.9990 - mae: 0.8236\n",
            "Epoch 128/200\n",
            "26/26 [==============================] - 0s 12ms/step - loss: 0.9991 - mae: 0.8238\n",
            "Epoch 129/200\n",
            "26/26 [==============================] - 0s 11ms/step - loss: 0.9989 - mae: 0.8236\n",
            "Epoch 130/200\n",
            "26/26 [==============================] - 0s 12ms/step - loss: 0.9990 - mae: 0.8236\n",
            "Epoch 131/200\n",
            "26/26 [==============================] - 0s 12ms/step - loss: 0.9989 - mae: 0.8235\n",
            "Epoch 132/200\n",
            "26/26 [==============================] - 0s 12ms/step - loss: 0.9990 - mae: 0.8236\n",
            "Epoch 133/200\n",
            "26/26 [==============================] - 0s 13ms/step - loss: 0.9989 - mae: 0.8236\n",
            "Epoch 134/200\n",
            "26/26 [==============================] - 0s 12ms/step - loss: 0.9989 - mae: 0.8236\n",
            "Epoch 135/200\n",
            "26/26 [==============================] - 0s 11ms/step - loss: 0.9989 - mae: 0.8236\n",
            "Epoch 136/200\n",
            "26/26 [==============================] - 0s 12ms/step - loss: 0.9990 - mae: 0.8235\n",
            "Epoch 137/200\n",
            "26/26 [==============================] - 0s 12ms/step - loss: 0.9988 - mae: 0.8234\n",
            "Epoch 138/200\n",
            "26/26 [==============================] - 0s 11ms/step - loss: 0.9989 - mae: 0.8234\n",
            "Epoch 139/200\n",
            "26/26 [==============================] - 0s 11ms/step - loss: 0.9989 - mae: 0.8235\n",
            "Epoch 140/200\n",
            "26/26 [==============================] - 0s 12ms/step - loss: 0.9992 - mae: 0.8236\n",
            "Epoch 141/200\n",
            "26/26 [==============================] - 0s 11ms/step - loss: 0.9989 - mae: 0.8235\n",
            "Epoch 142/200\n",
            "26/26 [==============================] - 0s 11ms/step - loss: 0.9990 - mae: 0.8235\n",
            "Epoch 143/200\n",
            "26/26 [==============================] - 0s 11ms/step - loss: 0.9992 - mae: 0.8235\n",
            "Epoch 144/200\n",
            "26/26 [==============================] - 0s 11ms/step - loss: 0.9991 - mae: 0.8235\n",
            "Epoch 145/200\n",
            "26/26 [==============================] - 0s 11ms/step - loss: 0.9989 - mae: 0.8234\n",
            "Epoch 146/200\n",
            "26/26 [==============================] - 0s 11ms/step - loss: 0.9992 - mae: 0.8239\n",
            "Epoch 147/200\n",
            "26/26 [==============================] - 0s 12ms/step - loss: 0.9989 - mae: 0.8236\n",
            "Epoch 148/200\n",
            "26/26 [==============================] - 0s 11ms/step - loss: 0.9990 - mae: 0.8236\n",
            "Epoch 149/200\n",
            "26/26 [==============================] - 0s 11ms/step - loss: 0.9989 - mae: 0.8235\n",
            "Epoch 150/200\n",
            "26/26 [==============================] - 0s 12ms/step - loss: 0.9989 - mae: 0.8235\n",
            "Epoch 151/200\n",
            "26/26 [==============================] - 0s 12ms/step - loss: 0.9992 - mae: 0.8236\n",
            "Epoch 152/200\n",
            "26/26 [==============================] - 0s 11ms/step - loss: 0.9992 - mae: 0.8236\n",
            "Epoch 153/200\n",
            "26/26 [==============================] - 0s 11ms/step - loss: 0.9989 - mae: 0.8235\n",
            "Epoch 154/200\n",
            "26/26 [==============================] - 0s 11ms/step - loss: 0.9990 - mae: 0.8237\n",
            "Epoch 155/200\n",
            "26/26 [==============================] - 0s 12ms/step - loss: 0.9989 - mae: 0.8236\n",
            "Epoch 156/200\n",
            "26/26 [==============================] - 0s 12ms/step - loss: 0.9989 - mae: 0.8236\n",
            "Epoch 157/200\n",
            "26/26 [==============================] - 0s 13ms/step - loss: 0.9990 - mae: 0.8236\n",
            "Epoch 158/200\n",
            "26/26 [==============================] - 0s 11ms/step - loss: 0.9989 - mae: 0.8235\n",
            "Epoch 159/200\n",
            "26/26 [==============================] - 0s 12ms/step - loss: 0.9990 - mae: 0.8236\n",
            "Epoch 160/200\n",
            "26/26 [==============================] - 0s 12ms/step - loss: 0.9989 - mae: 0.8235\n",
            "Epoch 161/200\n",
            "26/26 [==============================] - 0s 12ms/step - loss: 0.9989 - mae: 0.8235\n",
            "Epoch 162/200\n",
            "26/26 [==============================] - 0s 11ms/step - loss: 0.9989 - mae: 0.8236\n",
            "Epoch 163/200\n",
            "26/26 [==============================] - 0s 12ms/step - loss: 0.9990 - mae: 0.8235\n",
            "Epoch 164/200\n",
            "26/26 [==============================] - 0s 11ms/step - loss: 0.9993 - mae: 0.8238\n",
            "Epoch 165/200\n",
            "26/26 [==============================] - 0s 11ms/step - loss: 0.9988 - mae: 0.8236\n",
            "Epoch 166/200\n",
            "26/26 [==============================] - 0s 11ms/step - loss: 0.9988 - mae: 0.8235\n",
            "Epoch 167/200\n",
            "26/26 [==============================] - 0s 12ms/step - loss: 0.9990 - mae: 0.8235\n",
            "Epoch 168/200\n",
            "26/26 [==============================] - 0s 11ms/step - loss: 0.9990 - mae: 0.8236\n",
            "Epoch 169/200\n",
            "26/26 [==============================] - 0s 12ms/step - loss: 0.9989 - mae: 0.8234\n",
            "Epoch 170/200\n",
            "26/26 [==============================] - 0s 12ms/step - loss: 0.9990 - mae: 0.8236\n",
            "Epoch 171/200\n",
            "26/26 [==============================] - 0s 12ms/step - loss: 0.9989 - mae: 0.8235\n",
            "Epoch 172/200\n",
            "26/26 [==============================] - 0s 12ms/step - loss: 0.9990 - mae: 0.8235\n",
            "Epoch 173/200\n",
            "26/26 [==============================] - 0s 13ms/step - loss: 0.9988 - mae: 0.8235\n",
            "Epoch 174/200\n",
            "26/26 [==============================] - 0s 13ms/step - loss: 0.9994 - mae: 0.8239\n",
            "Epoch 175/200\n",
            "26/26 [==============================] - 0s 13ms/step - loss: 0.9988 - mae: 0.8235\n",
            "Epoch 176/200\n",
            "26/26 [==============================] - 0s 14ms/step - loss: 0.9990 - mae: 0.8234\n",
            "Epoch 177/200\n",
            "26/26 [==============================] - 0s 12ms/step - loss: 0.9993 - mae: 0.8238\n",
            "Epoch 178/200\n",
            "26/26 [==============================] - 0s 12ms/step - loss: 0.9989 - mae: 0.8234\n",
            "Epoch 179/200\n",
            "26/26 [==============================] - 0s 12ms/step - loss: 0.9990 - mae: 0.8234\n",
            "Epoch 180/200\n",
            "26/26 [==============================] - 0s 12ms/step - loss: 0.9988 - mae: 0.8234\n",
            "Epoch 181/200\n",
            "26/26 [==============================] - 0s 12ms/step - loss: 0.9989 - mae: 0.8236\n",
            "Epoch 182/200\n",
            "26/26 [==============================] - 0s 12ms/step - loss: 0.9991 - mae: 0.8235\n",
            "Epoch 183/200\n",
            "26/26 [==============================] - 0s 12ms/step - loss: 0.9989 - mae: 0.8235\n",
            "Epoch 184/200\n",
            "26/26 [==============================] - 0s 13ms/step - loss: 0.9990 - mae: 0.8235\n",
            "Epoch 185/200\n",
            "26/26 [==============================] - 0s 14ms/step - loss: 0.9989 - mae: 0.8236\n",
            "Epoch 186/200\n",
            "26/26 [==============================] - 0s 12ms/step - loss: 0.9989 - mae: 0.8235\n",
            "Epoch 187/200\n",
            "26/26 [==============================] - 0s 12ms/step - loss: 0.9992 - mae: 0.8235\n",
            "Epoch 188/200\n",
            "26/26 [==============================] - 0s 13ms/step - loss: 0.9989 - mae: 0.8235\n",
            "Epoch 189/200\n",
            "26/26 [==============================] - 0s 12ms/step - loss: 0.9989 - mae: 0.8236\n",
            "Epoch 190/200\n",
            "26/26 [==============================] - 0s 13ms/step - loss: 0.9989 - mae: 0.8236\n",
            "Epoch 191/200\n",
            "26/26 [==============================] - 0s 13ms/step - loss: 0.9989 - mae: 0.8235\n",
            "Epoch 192/200\n",
            "26/26 [==============================] - 0s 12ms/step - loss: 0.9989 - mae: 0.8236\n",
            "Epoch 193/200\n",
            "26/26 [==============================] - 0s 12ms/step - loss: 0.9990 - mae: 0.8237\n",
            "Epoch 194/200\n",
            "26/26 [==============================] - 0s 12ms/step - loss: 0.9988 - mae: 0.8235\n",
            "Epoch 195/200\n",
            "26/26 [==============================] - 0s 13ms/step - loss: 0.9989 - mae: 0.8235\n",
            "Epoch 196/200\n",
            "26/26 [==============================] - 0s 12ms/step - loss: 0.9992 - mae: 0.8236\n",
            "Epoch 197/200\n",
            "26/26 [==============================] - 0s 13ms/step - loss: 0.9989 - mae: 0.8234\n",
            "Epoch 198/200\n",
            "26/26 [==============================] - 0s 12ms/step - loss: 0.9991 - mae: 0.8237\n",
            "Epoch 199/200\n",
            "26/26 [==============================] - 0s 12ms/step - loss: 0.9990 - mae: 0.8235\n",
            "Epoch 200/200\n",
            "26/26 [==============================] - 0s 12ms/step - loss: 0.9989 - mae: 0.8235\n"
          ]
        }
      ]
    },
    {
      "cell_type": "code",
      "metadata": {
        "colab": {
          "base_uri": "https://localhost:8080/",
          "height": 283
        },
        "id": "j5z2xWRArxKb",
        "outputId": "b44f599d-7e09-4f0e-fe6e-40413a399cd8"
      },
      "source": [
        "y_acc = hist.history['mae']\n",
        "y_loss = hist.history['loss']#x_len = np.arange(len(y_loss)) \n",
        "x_len = np.arange(100)\n",
        "plt.plot(x_len, y_acc[:100], marker='.', c='red', label=\"mae\")\n",
        "plt.plot(x_len, y_loss[:100], marker='.', c='blue', label=\"Loss\")\n",
        "\n",
        "plt.legend(loc='upper right')\n",
        "plt.grid()\n",
        "plt.ylim(0,1)\n",
        "plt.xlabel('epoch')\n",
        "plt.ylabel('loss')\n",
        "plt.show()\n"
      ],
      "execution_count": 113,
      "outputs": [
        {
          "output_type": "display_data",
          "data": {
            "image/png": "[encoded data removed]",
            "text/plain": [
              "<Figure size 432x288 with 1 Axes>"
            ]
          },
          "metadata": {
            "needs_background": "light"
          }
        }
      ]
    },
    {
      "cell_type": "code",
      "metadata": {
        "colab": {
          "base_uri": "https://localhost:8080/"
        },
        "id": "Ht60MsA28k0B",
        "outputId": "f89b2a5c-b5a3-4640-f4d0-4912dafa37d7"
      },
      "source": [
        "print('## training loss and acc ##')\n",
        "print(hist.history['loss'])\n",
        "print(hist.history['mae'])"
      ],
      "execution_count": 114,
      "outputs": [
        {
          "output_type": "stream",
          "name": "stdout",
          "text": [
            "## training loss and acc ##\n",
            "[0.7355432510375977, 0.6177229285240173, 0.5850459933280945, 0.5678480863571167, 0.5480039119720459, 0.5339186191558838, 0.5607123970985413, 0.5079850554466248, 0.5125352740287781, 0.47188305854797363, 0.48262202739715576, 0.4909457564353943, 0.4826240539550781, 0.4412069618701935, 0.445046603679657, 0.44039100408554077, 0.43009933829307556, 0.4309123158454895, 0.4227716326713562, 0.4034501016139984, 0.3846225142478943, 0.41419726610183716, 0.3980776369571686, 0.3987314701080322, 0.3931225836277008, 0.3623896539211273, 0.35190749168395996, 0.3406153917312622, 0.3334196209907532, 0.32841283082962036, 0.29686474800109863, 0.3021089434623718, 0.3110587000846863, 0.29319998621940613, 0.27447938919067383, 0.2519313097000122, 0.2280956208705902, 0.24369287490844727, 0.2231537252664566, 0.225773423910141, 0.2421046942472458, 0.24137437343597412, 0.19852539896965027, 0.1639389991760254, 0.17005108296871185, 0.1580304056406021, 0.1805175244808197, 0.1710635870695114, 0.1510847955942154, 0.12748390436172485, 0.12527090311050415, 0.11349665373563766, 0.12821632623672485, 0.1333286315202713, 0.11554551869630814, 0.10067746043205261, 0.09303335845470428, 0.09731757640838623, 0.08457867056131363, 0.07060293853282928, 0.06897097826004028, 0.05294768512248993, 0.05194149166345596, 0.048252496868371964, 0.048255644738674164, 0.04709659144282341, 0.04355993494391441, 0.03773309662938118, 0.04707055538892746, 0.05807924270629883, 0.08501084893941879, 0.08890329301357269, 0.11727780848741531, 0.10534016042947769, 0.07652043551206589, 0.07477058470249176, 0.07282986491918564, 0.0385851114988327, 0.02861676923930645, 0.025270920246839523, 0.019171226769685745, 0.015196239575743675, 0.013872339390218258, 0.017649145796895027, 0.015901288017630577, 0.016269395127892494, 0.012667541392147541, 0.015876954421401024, 0.015217727981507778, 0.012010813690721989, 0.008536183275282383, 0.006158180069178343, 0.005177028942853212, 0.0052665057592093945, 0.005075957626104355, 0.0049334242939949036, 0.004455140791833401, 0.0035404087975621223, 0.003437802894040942, 0.0037344014272093773, 0.0037959879264235497, 0.002747599733993411, 0.002282326575368643, 0.0022858453448861837, 0.0031468344386667013, 0.0030785072594881058, 0.0036098859272897243, 0.004558315500617027, 0.0037695032078772783, 0.003189121140167117, 0.003285754472017288, 0.0035481194499880075, 0.003892224747687578, 0.004244754556566477, 0.004049746785312891, 0.00421722698956728, 0.005352185107767582, 0.0064706578850746155, 0.008046462200582027, 0.015136025846004486, 0.01732836663722992, 0.013278759084641933, 0.011190570890903473, 0.011089692823588848, 0.011374066583812237, 0.009318198077380657, 0.0075635458342731, 0.01470319926738739, 0.0649692565202713, 0.10760564357042313, 0.21041353046894073, 0.18202069401741028, 0.15949878096580505, 0.1512681096792221, 0.11598284542560577, 0.10136851668357849, 0.1059650108218193, 0.10047806799411774, 0.07206176221370697, 0.051890671253204346, 0.033668387681245804, 0.023278431966900826, 0.021017594262957573, 0.01772150956094265, 0.01657523587346077, 0.009770107455551624, 0.007477914448827505, 0.005080435425043106, 0.003999753855168819, 0.003230300499126315, 0.002528772922232747, 0.0017651288071647286, 0.0017439434304833412, 0.0018975803395733237, 0.0013490928104147315, 0.0011393734021112323, 0.0011785821989178658, 0.0010367033537477255, 0.0007862943457439542, 0.0006334999343380332, 0.0006034220568835735, 0.0005925208097323775, 0.000688107858877629, 0.000558706815354526, 0.0004878770268987864, 0.00042409353773109615, 0.00037328520556911826, 0.0003419918066356331, 0.0003691418969538063, 0.0004199604445602745, 0.00041770425741560757, 0.00037247821455821395, 0.0005022756522521377, 0.0005499401013366878, 0.0005716338055208325, 0.0007109766011126339, 0.0008647880749776959, 0.0010305632604286075, 0.0013050725683569908, 0.002070152433589101, 0.0040571722202003, 0.010435263626277447, 0.009461995214223862, 0.009862212464213371, 0.007020802702754736, 0.006108660250902176, 0.006438601762056351, 0.010009996592998505, 0.017862893640995026, 0.02741418406367302, 0.02204350382089615, 0.0193477813154459, 0.024770516902208328, 0.027425825595855713, 0.04089553281664848, 0.03197230398654938, 0.03097170777618885, 0.028387196362018585, 0.031038891524076462, 0.025006867945194244]\n",
            "[0.6862321496009827, 0.6272392272949219, 0.6093294620513916, 0.588448166847229, 0.5852423906326294, 0.5728973150253296, 0.5855026245117188, 0.5609666109085083, 0.5647643804550171, 0.5376625061035156, 0.5391861796379089, 0.5462186336517334, 0.5389819145202637, 0.5175922513008118, 0.5214757919311523, 0.5176780223846436, 0.5103648900985718, 0.5104100704193115, 0.49597448110580444, 0.48932337760925293, 0.4703493118286133, 0.49178165197372437, 0.48032131791114807, 0.48676592111587524, 0.4814561903476715, 0.4548242688179016, 0.4493010640144348, 0.44211623072624207, 0.43755990266799927, 0.42293819785118103, 0.41107627749443054, 0.40784403681755066, 0.4117096960544586, 0.3998640775680542, 0.3824939727783203, 0.37177327275276184, 0.35042521357536316, 0.35784780979156494, 0.3381254971027374, 0.34246957302093506, 0.35839295387268066, 0.36052602529525757, 0.32601091265678406, 0.29509738087654114, 0.306191086769104, 0.2900530993938446, 0.3020365238189697, 0.2955833077430725, 0.275701105594635, 0.2531505227088928, 0.2504735589027405, 0.2328346222639084, 0.24908402562141418, 0.2552863359451294, 0.24044302105903625, 0.22933568060398102, 0.21469174325466156, 0.21770459413528442, 0.2032313346862793, 0.183837428689003, 0.17982572317123413, 0.1587030440568924, 0.16014961898326874, 0.15490660071372986, 0.1533452570438385, 0.15534928441047668, 0.14910505712032318, 0.1373319923877716, 0.13763859868049622, 0.15513566136360168, 0.1871701180934906, 0.2018297016620636, 0.20979633927345276, 0.20880353450775146, 0.18403469026088715, 0.18406282365322113, 0.18410710990428925, 0.1403457522392273, 0.11957747489213943, 0.11116047948598862, 0.09934625029563904, 0.08419819176197052, 0.08106708526611328, 0.09279640018939972, 0.08847324550151825, 0.08307667076587677, 0.07289853692054749, 0.0832086130976677, 0.0877617597579956, 0.07936761528253555, 0.06715849786996841, 0.05674416571855545, 0.05119349807500839, 0.050787776708602905, 0.05052092298865318, 0.04957149177789688, 0.04786509647965431, 0.040373146533966064, 0.04072308540344238, 0.04252280294895172, 0.04240759089589119, 0.03790340945124626, 0.034752387553453445, 0.033494435250759125, 0.03876906633377075, 0.0399855375289917, 0.04132409021258354, 0.04581576958298683, 0.0431554801762104, 0.04081488400697708, 0.04090467095375061, 0.04399043321609497, 0.04581964761018753, 0.046437058597803116, 0.04594535753130913, 0.04668673872947693, 0.05128645896911621, 0.058211203664541245, 0.061834126710891724, 0.07811952382326126, 0.09272404760122299, 0.08363597095012665, 0.07545804232358932, 0.07735420018434525, 0.0767444297671318, 0.07285597175359726, 0.06550034880638123, 0.08080314844846725, 0.12431062757968903, 0.18758338689804077, 0.290637731552124, 0.2989882230758667, 0.2739834189414978, 0.2688819169998169, 0.24125654995441437, 0.20974887907505035, 0.21823522448539734, 0.20141150057315826, 0.17684686183929443, 0.1488647311925888, 0.12035346776247025, 0.10157021880149841, 0.09902821481227875, 0.08966026455163956, 0.08446763455867767, 0.0701279267668724, 0.059193890541791916, 0.04966503381729126, 0.043782565742731094, 0.03933202102780342, 0.034563206136226654, 0.02930382452905178, 0.02757449634373188, 0.029049677774310112, 0.025770602747797966, 0.02341030351817608, 0.023290252313017845, 0.02150309830904007, 0.01800454407930374, 0.016265995800495148, 0.016633691266179085, 0.016293516382575035, 0.01674501970410347, 0.016419624909758568, 0.015676595270633698, 0.014400568790733814, 0.01404025312513113, 0.013254334218800068, 0.01334620825946331, 0.013812183402478695, 0.01398137491196394, 0.013362397439777851, 0.01475007925182581, 0.01588481478393078, 0.01691880263388157, 0.018685780465602875, 0.019820289686322212, 0.021538127213716507, 0.02533516101539135, 0.031102478504180908, 0.04074990004301071, 0.0671384260058403, 0.0677429735660553, 0.07077892869710922, 0.06142625957727432, 0.05700535699725151, 0.057902153581380844, 0.06904038786888123, 0.08903220295906067, 0.10570300370454788, 0.10285350680351257, 0.09877483546733856, 0.10889117419719696, 0.12000277638435364, 0.13889479637145996, 0.12417184561491013, 0.11195317655801773, 0.11791633069515228, 0.12130733579397202, 0.1109381690621376]\n"
          ]
        }
      ]
    },
    {
      "cell_type": "code",
      "metadata": {
        "colab": {
          "base_uri": "https://localhost:8080/"
        },
        "id": "K89Q03tn8pAc",
        "outputId": "eeae092b-c6b4-4839-ad24-1c9f303c9563"
      },
      "source": [
        "loss_and_metrics = model.evaluate(x_test, y_test, batch_size=32)\n",
        "print('## evaluation loss and_metrics ##')\n",
        "print(loss_and_metrics)"
      ],
      "execution_count": 115,
      "outputs": [
        {
          "output_type": "stream",
          "name": "stdout",
          "text": [
            "7/7 [==============================] - 0s 4ms/step - loss: 0.1611 - mae: 0.2137\n",
            "## evaluation loss and_metrics ##\n",
            "[0.1610787957906723, 0.2136986255645752]\n"
          ]
        }
      ]
    },
    {
      "cell_type": "code",
      "metadata": {
        "colab": {
          "base_uri": "https://localhost:8080/"
        },
        "id": "_a50w1Cs8vzO",
        "outputId": "6c56c484-7529-4682-cd5f-ecadaba48e2b"
      },
      "source": [
        "xhat = x_test[0:1]\n",
        "yhat = model.predict(xhat)\n",
        "print('## yhat ##')\n",
        "print(yhat)\n",
        "print(y_test[0:1])"
      ],
      "execution_count": 116,
      "outputs": [
        {
          "output_type": "stream",
          "name": "stdout",
          "text": [
            "## yhat ##\n",
            "[[-1.1700555]]\n",
            "[-1.25058774]\n"
          ]
        }
      ]
    },
    {
      "cell_type": "code",
      "metadata": {
        "id": "icn8oZrf87il",
        "outputId": "08a258fa-518e-4fbd-f45f-4e3e25c39060",
        "colab": {
          "base_uri": "https://localhost:8080/"
        }
      },
      "source": [
        "model.summary()"
      ],
      "execution_count": 117,
      "outputs": [
        {
          "output_type": "stream",
          "name": "stdout",
          "text": [
            "Model: \"sequential_4\"\n",
            "_________________________________________________________________\n",
            "Layer (type)                 Output Shape              Param #   \n",
            "=================================================================\n",
            "dense_20 (Dense)             (None, 1024)              12288     \n",
            "_________________________________________________________________\n",
            "dense_21 (Dense)             (None, 500)               512500    \n",
            "_________________________________________________________________\n",
            "dense_22 (Dense)             (None, 300)               150300    \n",
            "_________________________________________________________________\n",
            "dense_23 (Dense)             (None, 200)               60200     \n",
            "_________________________________________________________________\n",
            "dense_24 (Dense)             (None, 1)                 201       \n",
            "=================================================================\n",
            "Total params: 735,489\n",
            "Trainable params: 735,489\n",
            "Non-trainable params: 0\n",
            "_________________________________________________________________\n"
          ]
        }
      ]
    },
    {
      "cell_type": "code",
      "metadata": {
        "id": "b9kp6oiPLIuB"
      },
      "source": [
        "d"
      ],
      "execution_count": 56,
      "outputs": []
    }
  ]
}
