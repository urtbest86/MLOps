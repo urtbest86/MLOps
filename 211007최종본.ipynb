{
  "nbformat": 4,
  "nbformat_minor": 0,
  "metadata": {
    "colab": {
      "name": "sklearn.ipynb의 사본",
      "provenance": [],
      "collapsed_sections": [],
      "include_colab_link": true
    },
    "kernelspec": {
      "name": "python3",
      "display_name": "Python 3"
    },
    "language_info": {
      "name": "python"
    }
  },
  "cells": [
    {
      "cell_type": "markdown",
      "metadata": {
        "id": "view-in-github",
        "colab_type": "text"
      },
      "source": [
        "<a href=\"https://colab.research.google.com/github/urtbest86/MLOps/blob/master/211007%EC%B5%9C%EC%A2%85%EB%B3%B8.ipynb\" target=\"_parent\"><img src=\"https://colab.research.google.com/assets/colab-badge.svg\" alt=\"Open In Colab\"/></a>"
      ]
    },
    {
      "cell_type": "code",
      "metadata": {
        "id": "QJbY3x4wQE03"
      },
      "source": [
        "import pandas as pd\n",
        "import numpy as np\n",
        "from tensorflow.keras.models import Sequential\n",
        "from tensorflow.keras.layers import Dense"
      ],
      "execution_count": 3,
      "outputs": []
    },
    {
      "cell_type": "code",
      "metadata": {
        "colab": {
          "resources": {
            "http://localhost:8080/nbextensions/google.colab/files.js": {
              "data": "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",
              "ok": true,
              "headers": [
                [
                  "content-type",
                  "application/javascript"
                ]
              ],
              "status": 200,
              "status_text": ""
            }
          },
          "base_uri": "https://localhost:8080/",
          "height": 75
        },
        "id": "WvZubhuiQIwP",
        "outputId": "ad366870-bffc-495d-cc7f-5730f025c5fe"
      },
      "source": [
        "from google.colab import files\n",
        "import io\n",
        "data = files.upload()"
      ],
      "execution_count": 4,
      "outputs": [
        {
          "output_type": "display_data",
          "data": {
            "text/html": [
              "\n",
              "     <input type=\"file\" id=\"files-16798bdb-9061-4479-a25b-7935867a6590\" name=\"files[]\" multiple disabled\n",
              "        style=\"border:none\" />\n",
              "     <output id=\"result-16798bdb-9061-4479-a25b-7935867a6590\">\n",
              "      Upload widget is only available when the cell has been executed in the\n",
              "      current browser session. Please rerun this cell to enable.\n",
              "      </output>\n",
              "      <script src=\"/nbextensions/google.colab/files.js\"></script> "
            ],
            "text/plain": [
              "<IPython.core.display.HTML object>"
            ]
          },
          "metadata": {}
        },
        {
          "output_type": "stream",
          "name": "stdout",
          "text": [
            "Saving result.csv to result.csv\n"
          ]
        }
      ]
    },
    {
      "cell_type": "code",
      "metadata": {
        "id": "zAY4X4A5QI39"
      },
      "source": [
        "df = pd.read_csv('result.csv')"
      ],
      "execution_count": 5,
      "outputs": []
    },
    {
      "cell_type": "code",
      "metadata": {
        "id": "QbuCnUhLQI7O"
      },
      "source": [
        "train=df.sample(frac=0.8)\n",
        "test=df.sample(frac=0.2)"
      ],
      "execution_count": 6,
      "outputs": []
    },
    {
      "cell_type": "code",
      "metadata": {
        "id": "crGyIXEh5dfi"
      },
      "source": [
        "mean = train.mean(axis=0)\n",
        "train -= mean\n",
        "std = train.std(axis=0)\n",
        "train /= std\n",
        "\n",
        "test -= mean\n",
        "test /= std"
      ],
      "execution_count": 7,
      "outputs": []
    },
    {
      "cell_type": "code",
      "metadata": {
        "id": "X4ACu2b2QI-O"
      },
      "source": [
        "train_data_set = train.values\n",
        "x_train = train_data_set[:, 2:-1].astype(float)\n",
        "y_train = train_data_set[:, -1].astype(float)"
      ],
      "execution_count": 8,
      "outputs": []
    },
    {
      "cell_type": "code",
      "metadata": {
        "id": "chZ5qJ_BRrdB"
      },
      "source": [
        "test_data_set = test.values\n",
        "x_test = test_data_set[:, 2:-1].astype(float)\n",
        "y_test = test_data_set[:, -1].astype(float)"
      ],
      "execution_count": 9,
      "outputs": []
    },
    {
      "cell_type": "code",
      "metadata": {
        "id": "vpnvoSNUQJGX"
      },
      "source": [
        "from tensorflow.keras.models import Sequential\n",
        "from tensorflow.keras.layers import Dense\n",
        "\n",
        "model = Sequential()\n",
        "model.add(Dense(1024, input_dim = 11, activation='relu'))\n",
        "model.add(Dense(500,activation='relu'))\n",
        "model.add(Dense(300,activation='relu'))\n",
        "model.add(Dense(200,activation='relu'))\n",
        "model.add(Dense(1))"
      ],
      "execution_count": 10,
      "outputs": []
    },
    {
      "cell_type": "code",
      "metadata": {
        "id": "FccnZKMlYXmt"
      },
      "source": [
        "model.compile(loss='mse', optimizer='adam',metrics=['mae'])"
      ],
      "execution_count": 11,
      "outputs": []
    },
    {
      "cell_type": "code",
      "metadata": {
        "colab": {
          "base_uri": "https://localhost:8080/"
        },
        "id": "j0UmXBFEYXyr",
        "outputId": "c1357678-c114-4bd4-d9a9-f8eb87195fc0"
      },
      "source": [
        "hist=model.fit(x_train, y_train, epochs=120, batch_size=32)"
      ],
      "execution_count": 12,
      "outputs": [
        {
          "output_type": "stream",
          "name": "stdout",
          "text": [
            "Epoch 1/120\n",
            "26/26 [==============================] - 1s 10ms/step - loss: 0.7027 - mae: 0.6707\n",
            "Epoch 2/120\n",
            "26/26 [==============================] - 0s 11ms/step - loss: 0.6032 - mae: 0.6177\n",
            "Epoch 3/120\n",
            "26/26 [==============================] - 0s 11ms/step - loss: 0.5947 - mae: 0.6015\n",
            "Epoch 4/120\n",
            "26/26 [==============================] - 0s 10ms/step - loss: 0.5547 - mae: 0.5841\n",
            "Epoch 5/120\n",
            "26/26 [==============================] - 0s 10ms/step - loss: 0.5665 - mae: 0.5934\n",
            "Epoch 6/120\n",
            "26/26 [==============================] - 0s 10ms/step - loss: 0.5382 - mae: 0.5726\n",
            "Epoch 7/120\n",
            "26/26 [==============================] - 0s 11ms/step - loss: 0.5430 - mae: 0.5775\n",
            "Epoch 8/120\n",
            "26/26 [==============================] - 0s 11ms/step - loss: 0.5334 - mae: 0.5649\n",
            "Epoch 9/120\n",
            "26/26 [==============================] - 0s 11ms/step - loss: 0.5029 - mae: 0.5557\n",
            "Epoch 10/120\n",
            "26/26 [==============================] - 0s 11ms/step - loss: 0.4842 - mae: 0.5385\n",
            "Epoch 11/120\n",
            "26/26 [==============================] - 0s 10ms/step - loss: 0.4959 - mae: 0.5441\n",
            "Epoch 12/120\n",
            "26/26 [==============================] - 0s 10ms/step - loss: 0.4852 - mae: 0.5350\n",
            "Epoch 13/120\n",
            "26/26 [==============================] - 0s 10ms/step - loss: 0.5042 - mae: 0.5476\n",
            "Epoch 14/120\n",
            "26/26 [==============================] - 0s 11ms/step - loss: 0.4556 - mae: 0.5190\n",
            "Epoch 15/120\n",
            "26/26 [==============================] - 0s 10ms/step - loss: 0.4515 - mae: 0.5064\n",
            "Epoch 16/120\n",
            "26/26 [==============================] - 0s 10ms/step - loss: 0.4612 - mae: 0.5209\n",
            "Epoch 17/120\n",
            "26/26 [==============================] - 0s 10ms/step - loss: 0.4447 - mae: 0.5122\n",
            "Epoch 18/120\n",
            "26/26 [==============================] - 0s 11ms/step - loss: 0.4179 - mae: 0.4922\n",
            "Epoch 19/120\n",
            "26/26 [==============================] - 0s 11ms/step - loss: 0.4069 - mae: 0.4854\n",
            "Epoch 20/120\n",
            "26/26 [==============================] - 0s 11ms/step - loss: 0.4050 - mae: 0.4790\n",
            "Epoch 21/120\n",
            "26/26 [==============================] - 0s 11ms/step - loss: 0.3854 - mae: 0.4657\n",
            "Epoch 22/120\n",
            "26/26 [==============================] - 0s 10ms/step - loss: 0.4075 - mae: 0.4785\n",
            "Epoch 23/120\n",
            "26/26 [==============================] - 0s 10ms/step - loss: 0.3887 - mae: 0.4713\n",
            "Epoch 24/120\n",
            "26/26 [==============================] - 0s 10ms/step - loss: 0.4114 - mae: 0.4919\n",
            "Epoch 25/120\n",
            "26/26 [==============================] - 0s 10ms/step - loss: 0.3673 - mae: 0.4608\n",
            "Epoch 26/120\n",
            "26/26 [==============================] - 0s 12ms/step - loss: 0.3604 - mae: 0.4588\n",
            "Epoch 27/120\n",
            "26/26 [==============================] - 0s 10ms/step - loss: 0.3674 - mae: 0.4511\n",
            "Epoch 28/120\n",
            "26/26 [==============================] - 0s 10ms/step - loss: 0.3417 - mae: 0.4278\n",
            "Epoch 29/120\n",
            "26/26 [==============================] - 0s 10ms/step - loss: 0.3129 - mae: 0.4110\n",
            "Epoch 30/120\n",
            "26/26 [==============================] - 0s 10ms/step - loss: 0.3078 - mae: 0.4086\n",
            "Epoch 31/120\n",
            "26/26 [==============================] - 0s 10ms/step - loss: 0.3087 - mae: 0.4032\n",
            "Epoch 32/120\n",
            "26/26 [==============================] - 0s 11ms/step - loss: 0.2937 - mae: 0.4000\n",
            "Epoch 33/120\n",
            "26/26 [==============================] - 0s 10ms/step - loss: 0.2777 - mae: 0.3853\n",
            "Epoch 34/120\n",
            "26/26 [==============================] - 0s 10ms/step - loss: 0.2719 - mae: 0.3821\n",
            "Epoch 35/120\n",
            "26/26 [==============================] - 0s 10ms/step - loss: 0.2593 - mae: 0.3691\n",
            "Epoch 36/120\n",
            "26/26 [==============================] - 0s 10ms/step - loss: 0.2472 - mae: 0.3634\n",
            "Epoch 37/120\n",
            "26/26 [==============================] - 0s 10ms/step - loss: 0.2724 - mae: 0.3749\n",
            "Epoch 38/120\n",
            "26/26 [==============================] - 0s 10ms/step - loss: 0.2655 - mae: 0.3651\n",
            "Epoch 39/120\n",
            "26/26 [==============================] - 0s 11ms/step - loss: 0.2260 - mae: 0.3424\n",
            "Epoch 40/120\n",
            "26/26 [==============================] - 0s 10ms/step - loss: 0.2488 - mae: 0.3602\n",
            "Epoch 41/120\n",
            "26/26 [==============================] - 0s 10ms/step - loss: 0.2225 - mae: 0.3384\n",
            "Epoch 42/120\n",
            "26/26 [==============================] - 0s 11ms/step - loss: 0.2316 - mae: 0.3393\n",
            "Epoch 43/120\n",
            "26/26 [==============================] - 0s 11ms/step - loss: 0.1815 - mae: 0.3069\n",
            "Epoch 44/120\n",
            "26/26 [==============================] - 0s 11ms/step - loss: 0.1575 - mae: 0.2820\n",
            "Epoch 45/120\n",
            "26/26 [==============================] - 0s 11ms/step - loss: 0.1515 - mae: 0.2720\n",
            "Epoch 46/120\n",
            "26/26 [==============================] - 0s 11ms/step - loss: 0.1817 - mae: 0.2916\n",
            "Epoch 47/120\n",
            "26/26 [==============================] - 0s 11ms/step - loss: 0.1652 - mae: 0.2805\n",
            "Epoch 48/120\n",
            "26/26 [==============================] - 0s 10ms/step - loss: 0.1543 - mae: 0.2744\n",
            "Epoch 49/120\n",
            "26/26 [==============================] - 0s 10ms/step - loss: 0.1274 - mae: 0.2503\n",
            "Epoch 50/120\n",
            "26/26 [==============================] - 0s 11ms/step - loss: 0.1319 - mae: 0.2466\n",
            "Epoch 51/120\n",
            "26/26 [==============================] - 0s 11ms/step - loss: 0.1125 - mae: 0.2270\n",
            "Epoch 52/120\n",
            "26/26 [==============================] - 0s 11ms/step - loss: 0.0952 - mae: 0.2177\n",
            "Epoch 53/120\n",
            "26/26 [==============================] - 0s 10ms/step - loss: 0.1241 - mae: 0.2317\n",
            "Epoch 54/120\n",
            "26/26 [==============================] - 0s 11ms/step - loss: 0.1496 - mae: 0.2559\n",
            "Epoch 55/120\n",
            "26/26 [==============================] - 0s 11ms/step - loss: 0.0955 - mae: 0.2195\n",
            "Epoch 56/120\n",
            "26/26 [==============================] - 0s 12ms/step - loss: 0.0847 - mae: 0.2047\n",
            "Epoch 57/120\n",
            "26/26 [==============================] - 0s 12ms/step - loss: 0.1234 - mae: 0.2287\n",
            "Epoch 58/120\n",
            "26/26 [==============================] - 0s 11ms/step - loss: 0.1112 - mae: 0.2320\n",
            "Epoch 59/120\n",
            "26/26 [==============================] - 0s 10ms/step - loss: 0.1047 - mae: 0.2138\n",
            "Epoch 60/120\n",
            "26/26 [==============================] - 0s 11ms/step - loss: 0.0806 - mae: 0.1876\n",
            "Epoch 61/120\n",
            "26/26 [==============================] - 0s 11ms/step - loss: 0.0888 - mae: 0.1924\n",
            "Epoch 62/120\n",
            "26/26 [==============================] - 0s 11ms/step - loss: 0.0759 - mae: 0.1838\n",
            "Epoch 63/120\n",
            "26/26 [==============================] - 0s 11ms/step - loss: 0.0642 - mae: 0.1684\n",
            "Epoch 64/120\n",
            "26/26 [==============================] - 0s 11ms/step - loss: 0.0488 - mae: 0.1569\n",
            "Epoch 65/120\n",
            "26/26 [==============================] - 0s 10ms/step - loss: 0.0572 - mae: 0.1593\n",
            "Epoch 66/120\n",
            "26/26 [==============================] - 0s 11ms/step - loss: 0.0616 - mae: 0.1686\n",
            "Epoch 67/120\n",
            "26/26 [==============================] - 0s 11ms/step - loss: 0.0541 - mae: 0.1602\n",
            "Epoch 68/120\n",
            "26/26 [==============================] - 0s 11ms/step - loss: 0.0575 - mae: 0.1537\n",
            "Epoch 69/120\n",
            "26/26 [==============================] - 0s 11ms/step - loss: 0.0425 - mae: 0.1378\n",
            "Epoch 70/120\n",
            "26/26 [==============================] - 0s 11ms/step - loss: 0.0592 - mae: 0.1405\n",
            "Epoch 71/120\n",
            "26/26 [==============================] - 0s 11ms/step - loss: 0.0602 - mae: 0.1493\n",
            "Epoch 72/120\n",
            "26/26 [==============================] - 0s 11ms/step - loss: 0.0380 - mae: 0.1303\n",
            "Epoch 73/120\n",
            "26/26 [==============================] - 0s 10ms/step - loss: 0.0433 - mae: 0.1351\n",
            "Epoch 74/120\n",
            "26/26 [==============================] - 0s 10ms/step - loss: 0.0368 - mae: 0.1313\n",
            "Epoch 75/120\n",
            "26/26 [==============================] - 0s 10ms/step - loss: 0.0397 - mae: 0.1233\n",
            "Epoch 76/120\n",
            "26/26 [==============================] - 0s 10ms/step - loss: 0.0384 - mae: 0.1256\n",
            "Epoch 77/120\n",
            "26/26 [==============================] - 0s 11ms/step - loss: 0.0256 - mae: 0.1087\n",
            "Epoch 78/120\n",
            "26/26 [==============================] - 0s 12ms/step - loss: 0.0177 - mae: 0.0963\n",
            "Epoch 79/120\n",
            "26/26 [==============================] - 0s 11ms/step - loss: 0.0139 - mae: 0.0840\n",
            "Epoch 80/120\n",
            "26/26 [==============================] - 0s 11ms/step - loss: 0.0096 - mae: 0.0709\n",
            "Epoch 81/120\n",
            "26/26 [==============================] - 0s 11ms/step - loss: 0.0081 - mae: 0.0624\n",
            "Epoch 82/120\n",
            "26/26 [==============================] - 0s 11ms/step - loss: 0.0064 - mae: 0.0566\n",
            "Epoch 83/120\n",
            "26/26 [==============================] - 0s 10ms/step - loss: 0.0068 - mae: 0.0586\n",
            "Epoch 84/120\n",
            "26/26 [==============================] - 0s 11ms/step - loss: 0.0058 - mae: 0.0557\n",
            "Epoch 85/120\n",
            "26/26 [==============================] - 0s 11ms/step - loss: 0.0077 - mae: 0.0641\n",
            "Epoch 86/120\n",
            "26/26 [==============================] - 0s 10ms/step - loss: 0.0062 - mae: 0.0564\n",
            "Epoch 87/120\n",
            "26/26 [==============================] - 0s 10ms/step - loss: 0.0042 - mae: 0.0466\n",
            "Epoch 88/120\n",
            "26/26 [==============================] - 0s 10ms/step - loss: 0.0035 - mae: 0.0421\n",
            "Epoch 89/120\n",
            "26/26 [==============================] - 0s 11ms/step - loss: 0.0033 - mae: 0.0415\n",
            "Epoch 90/120\n",
            "26/26 [==============================] - 0s 10ms/step - loss: 0.0026 - mae: 0.0374\n",
            "Epoch 91/120\n",
            "26/26 [==============================] - 0s 10ms/step - loss: 0.0024 - mae: 0.0366\n",
            "Epoch 92/120\n",
            "26/26 [==============================] - 0s 11ms/step - loss: 0.0021 - mae: 0.0323\n",
            "Epoch 93/120\n",
            "26/26 [==============================] - 0s 11ms/step - loss: 0.0017 - mae: 0.0285\n",
            "Epoch 94/120\n",
            "26/26 [==============================] - 0s 10ms/step - loss: 0.0016 - mae: 0.0274\n",
            "Epoch 95/120\n",
            "26/26 [==============================] - 0s 11ms/step - loss: 0.0014 - mae: 0.0267\n",
            "Epoch 96/120\n",
            "26/26 [==============================] - 0s 11ms/step - loss: 0.0017 - mae: 0.0297\n",
            "Epoch 97/120\n",
            "26/26 [==============================] - 0s 10ms/step - loss: 0.0020 - mae: 0.0316\n",
            "Epoch 98/120\n",
            "26/26 [==============================] - 0s 10ms/step - loss: 0.0020 - mae: 0.0312\n",
            "Epoch 99/120\n",
            "26/26 [==============================] - 0s 12ms/step - loss: 0.0024 - mae: 0.0334\n",
            "Epoch 100/120\n",
            "26/26 [==============================] - 0s 11ms/step - loss: 0.0023 - mae: 0.0350\n",
            "Epoch 101/120\n",
            "26/26 [==============================] - 0s 10ms/step - loss: 0.0025 - mae: 0.0365\n",
            "Epoch 102/120\n",
            "26/26 [==============================] - 0s 11ms/step - loss: 0.0028 - mae: 0.0387\n",
            "Epoch 103/120\n",
            "26/26 [==============================] - 0s 11ms/step - loss: 0.0040 - mae: 0.0437\n",
            "Epoch 104/120\n",
            "26/26 [==============================] - 0s 10ms/step - loss: 0.0037 - mae: 0.0451\n",
            "Epoch 105/120\n",
            "26/26 [==============================] - 0s 11ms/step - loss: 0.0030 - mae: 0.0406\n",
            "Epoch 106/120\n",
            "26/26 [==============================] - 0s 10ms/step - loss: 0.0025 - mae: 0.0382\n",
            "Epoch 107/120\n",
            "26/26 [==============================] - 0s 11ms/step - loss: 0.0028 - mae: 0.0394\n",
            "Epoch 108/120\n",
            "26/26 [==============================] - 0s 10ms/step - loss: 0.0025 - mae: 0.0378\n",
            "Epoch 109/120\n",
            "26/26 [==============================] - 0s 10ms/step - loss: 0.0028 - mae: 0.0378\n",
            "Epoch 110/120\n",
            "26/26 [==============================] - 0s 10ms/step - loss: 0.0027 - mae: 0.0384\n",
            "Epoch 111/120\n",
            "26/26 [==============================] - 0s 11ms/step - loss: 0.0027 - mae: 0.0387\n",
            "Epoch 112/120\n",
            "26/26 [==============================] - 0s 10ms/step - loss: 0.0026 - mae: 0.0377\n",
            "Epoch 113/120\n",
            "26/26 [==============================] - 0s 10ms/step - loss: 0.0038 - mae: 0.0452\n",
            "Epoch 114/120\n",
            "26/26 [==============================] - 0s 11ms/step - loss: 0.0043 - mae: 0.0488\n",
            "Epoch 115/120\n",
            "26/26 [==============================] - 0s 10ms/step - loss: 0.0059 - mae: 0.0525\n",
            "Epoch 116/120\n",
            "26/26 [==============================] - 0s 10ms/step - loss: 0.0078 - mae: 0.0632\n",
            "Epoch 117/120\n",
            "26/26 [==============================] - 0s 11ms/step - loss: 0.0123 - mae: 0.0815\n",
            "Epoch 118/120\n",
            "26/26 [==============================] - 0s 11ms/step - loss: 0.0148 - mae: 0.0904\n",
            "Epoch 119/120\n",
            "26/26 [==============================] - 0s 10ms/step - loss: 0.0261 - mae: 0.1034\n",
            "Epoch 120/120\n",
            "26/26 [==============================] - 0s 10ms/step - loss: 0.0354 - mae: 0.1274\n"
          ]
        }
      ]
    },
    {
      "cell_type": "code",
      "metadata": {
        "colab": {
          "base_uri": "https://localhost:8080/",
          "height": 279
        },
        "id": "j5z2xWRArxKb",
        "outputId": "a362000f-06c1-47c7-eeae-7c31bf0118ef"
      },
      "source": [
        "import matplotlib.pyplot as plt\n",
        "\n",
        "y_acc = hist.history['mae']\n",
        "y_loss = hist.history['loss']#x_len = np.arange(len(y_loss)) \n",
        "x_len = np.arange(120)\n",
        "plt.plot(x_len, y_acc, marker='.', c='red', label=\"mae\")\n",
        "plt.plot(x_len, y_loss, marker='.', c='blue', label=\"Loss\")\n",
        "\n",
        "plt.legend(loc='upper right')\n",
        "plt.grid()\n",
        "plt.xlabel('epoch')\n",
        "plt.ylabel('loss')\n",
        "plt.show()"
      ],
      "execution_count": 14,
      "outputs": [
        {
          "output_type": "display_data",
          "data": {
            "image/png": "[encoded data removed]",
            "text/plain": [
              "<Figure size 432x288 with 1 Axes>"
            ]
          },
          "metadata": {
            "needs_background": "light"
          }
        }
      ]
    },
    {
      "cell_type": "code",
      "metadata": {
        "colab": {
          "base_uri": "https://localhost:8080/"
        },
        "id": "Ht60MsA28k0B",
        "outputId": "a448b304-8db5-4730-909a-7b6ae7d378ec"
      },
      "source": [
        "print('## training loss and acc ##')\n",
        "print(hist.history['loss'])\n",
        "print(hist.history['mae'])"
      ],
      "execution_count": 15,
      "outputs": [
        {
          "output_type": "stream",
          "name": "stdout",
          "text": [
            "## training loss and acc ##\n",
            "[0.7027474641799927, 0.6031959652900696, 0.594721794128418, 0.5547035932540894, 0.5665457844734192, 0.5382364392280579, 0.5429749488830566, 0.5333656668663025, 0.5028649568557739, 0.4842444956302643, 0.49591565132141113, 0.4851948916912079, 0.5042318105697632, 0.4556419253349304, 0.4515148401260376, 0.4611662030220032, 0.44474712014198303, 0.41785845160484314, 0.40688833594322205, 0.4050419330596924, 0.38543176651000977, 0.4075498580932617, 0.388693630695343, 0.41144275665283203, 0.3673005998134613, 0.3603813350200653, 0.3673885762691498, 0.3417256772518158, 0.31293922662734985, 0.3077707588672638, 0.3087180256843567, 0.29371407628059387, 0.2776827812194824, 0.27187949419021606, 0.25926417112350464, 0.24722690880298615, 0.2723648250102997, 0.2655021846294403, 0.22600525617599487, 0.24879705905914307, 0.2224772423505783, 0.23156403005123138, 0.18151427805423737, 0.15746121108531952, 0.1514558494091034, 0.18172699213027954, 0.16515201330184937, 0.15429849922657013, 0.12737534940242767, 0.1318819373846054, 0.11248262971639633, 0.09516299515962601, 0.12411067634820938, 0.1495681256055832, 0.0955219566822052, 0.08466153591871262, 0.1234402060508728, 0.11122144013643265, 0.10472635179758072, 0.08058255910873413, 0.08883242309093475, 0.07594867795705795, 0.06418555974960327, 0.04882359504699707, 0.05722349137067795, 0.06156805902719498, 0.0540810190141201, 0.05754780024290085, 0.042548537254333496, 0.0591781809926033, 0.06018183007836342, 0.03802138939499855, 0.043342474848032, 0.036774151027202606, 0.039723221212625504, 0.03839442878961563, 0.025619391351938248, 0.017672577872872353, 0.013861682265996933, 0.009623115882277489, 0.008141694590449333, 0.00635839719325304, 0.006840067449957132, 0.005779441446065903, 0.0076641202904284, 0.006246164441108704, 0.004161027725785971, 0.0035055484622716904, 0.003276475705206394, 0.002574192127212882, 0.002423466881737113, 0.0021188200917094946, 0.001666033174842596, 0.0016027444507926702, 0.0014315752778202295, 0.0017224302282556891, 0.0019626484718173742, 0.0019865387585014105, 0.0024036087561398745, 0.002282603643834591, 0.0024650467094033957, 0.0027992406394332647, 0.003973045852035284, 0.003748847870156169, 0.0029770333785563707, 0.0025437676813453436, 0.0027755568735301495, 0.002540960907936096, 0.002784528536722064, 0.0026678622234612703, 0.002744463039562106, 0.002564055612310767, 0.003770439885556698, 0.004324381705373526, 0.0058633009903132915, 0.00776164373382926, 0.012250171974301338, 0.014757147058844566, 0.026058390736579895, 0.03544341027736664]\n",
            "[0.6706517934799194, 0.6176864504814148, 0.6015276312828064, 0.5841336250305176, 0.5933934450149536, 0.5726227164268494, 0.5775192975997925, 0.5649173259735107, 0.5557193160057068, 0.5384926199913025, 0.5441271066665649, 0.5350244045257568, 0.5476054549217224, 0.5190430283546448, 0.5064460635185242, 0.5208960771560669, 0.5121786594390869, 0.49224796891212463, 0.4853997230529785, 0.4789959788322449, 0.46566322445869446, 0.4785141944885254, 0.471283882856369, 0.49190187454223633, 0.4608009457588196, 0.458791047334671, 0.4511391520500183, 0.42775988578796387, 0.41096699237823486, 0.40863874554634094, 0.40323036909103394, 0.4000037610530853, 0.38533681631088257, 0.382060706615448, 0.3690682649612427, 0.36342012882232666, 0.3748985230922699, 0.3650777339935303, 0.34237104654312134, 0.36021071672439575, 0.33842724561691284, 0.3393478989601135, 0.30690839886665344, 0.28195470571517944, 0.2719675898551941, 0.29161885380744934, 0.28047090768814087, 0.27440568804740906, 0.2502639591693878, 0.24660266935825348, 0.22698462009429932, 0.21765413880348206, 0.2317013293504715, 0.2558808922767639, 0.21945853531360626, 0.20465630292892456, 0.2287045419216156, 0.2320268601179123, 0.21384656429290771, 0.18755310773849487, 0.19237682223320007, 0.1838172823190689, 0.16836415231227875, 0.15687626600265503, 0.15927517414093018, 0.16863133013248444, 0.16017644107341766, 0.1536792367696762, 0.13777723908424377, 0.14050880074501038, 0.14925213158130646, 0.13029545545578003, 0.1350712776184082, 0.1312873512506485, 0.12330582737922668, 0.12562939524650574, 0.10866917669773102, 0.09625253081321716, 0.08404737710952759, 0.07091640681028366, 0.062366265803575516, 0.05662056803703308, 0.05862469971179962, 0.05570655316114426, 0.06407297402620316, 0.05644920468330383, 0.04663044586777687, 0.04208596795797348, 0.04146154969930649, 0.03738545998930931, 0.03657354414463043, 0.03230612352490425, 0.028470396995544434, 0.02743314765393734, 0.02673691138625145, 0.029660679399967194, 0.03164557367563248, 0.03122936561703682, 0.03344419598579407, 0.03500450402498245, 0.03647410869598389, 0.03865531459450722, 0.04374762997031212, 0.04514139145612717, 0.040609534829854965, 0.038222841918468475, 0.03944031521677971, 0.03776732459664345, 0.037751004099845886, 0.03844078630208969, 0.03868026286363602, 0.03773258998990059, 0.045154016464948654, 0.04880919307470322, 0.05245554819703102, 0.06322167813777924, 0.08146771043539047, 0.0903770923614502, 0.10336702316999435, 0.12738557159900665]\n"
          ]
        }
      ]
    },
    {
      "cell_type": "code",
      "metadata": {
        "colab": {
          "base_uri": "https://localhost:8080/"
        },
        "id": "K89Q03tn8pAc",
        "outputId": "93a71bc9-c720-4e20-b73d-b86fa131b9f6"
      },
      "source": [
        "loss_and_metrics = model.evaluate(x_test, y_test, batch_size=32)\n",
        "print('## evaluation loss and_metrics ##')\n",
        "print(loss_and_metrics)"
      ],
      "execution_count": 16,
      "outputs": [
        {
          "output_type": "stream",
          "name": "stdout",
          "text": [
            "7/7 [==============================] - 0s 4ms/step - loss: 0.1646 - mae: 0.2357\n",
            "## evaluation loss and_metrics ##\n",
            "[0.16464664041996002, 0.2357158660888672]\n"
          ]
        }
      ]
    },
    {
      "cell_type": "code",
      "metadata": {
        "colab": {
          "base_uri": "https://localhost:8080/"
        },
        "id": "_a50w1Cs8vzO",
        "outputId": "a75354b9-7b72-48c4-cb82-5d1f81614799"
      },
      "source": [
        "xhat = x_test[0:1]\n",
        "yhat = model.predict(xhat)\n",
        "print('## yhat ##')\n",
        "print(yhat)\n",
        "print(y_test[0:1])"
      ],
      "execution_count": 17,
      "outputs": [
        {
          "output_type": "stream",
          "name": "stdout",
          "text": [
            "## yhat ##\n",
            "[[-0.3831579]]\n",
            "[-0.46985209]\n"
          ]
        }
      ]
    },
    {
      "cell_type": "code",
      "metadata": {
        "id": "TFiXAL2dfw34",
        "outputId": "40c6e768-4f54-4a01-f601-d75bace53154",
        "colab": {
          "base_uri": "https://localhost:8080/"
        }
      },
      "source": [
        "xhat = x_test\n",
        "yhat = model.predict(xhat)\n",
        "\n",
        "print(\"======predict======\")\n",
        "print(yhat)\n",
        "\n",
        "\n",
        "print(\"======real======\")\n",
        "print(y_test)"
      ],
      "execution_count": 20,
      "outputs": [
        {
          "output_type": "stream",
          "name": "stdout",
          "text": [
            "======predict======\n",
            "[[-0.38315803]\n",
            " [ 0.14075989]\n",
            " [-0.0139888 ]\n",
            " [ 0.03877446]\n",
            " [-0.55614203]\n",
            " [-1.6885016 ]\n",
            " [-0.00847028]\n",
            " [-0.66832256]\n",
            " [ 1.9932091 ]\n",
            " [ 1.1705623 ]\n",
            " [ 0.66317886]\n",
            " [-1.3686486 ]\n",
            " [ 0.04180726]\n",
            " [-1.6770726 ]\n",
            " [-1.4253337 ]\n",
            " [ 0.16962151]\n",
            " [ 1.5634924 ]\n",
            " [ 0.03067538]\n",
            " [-1.5956762 ]\n",
            " [ 0.47233808]\n",
            " [ 0.9020116 ]\n",
            " [-1.2567749 ]\n",
            " [ 2.2481573 ]\n",
            " [ 0.8719667 ]\n",
            " [ 0.70600575]\n",
            " [-1.6451612 ]\n",
            " [-0.37902108]\n",
            " [-1.3972641 ]\n",
            " [ 1.1014336 ]\n",
            " [-1.4457877 ]\n",
            " [-0.49882084]\n",
            " [ 1.4434899 ]\n",
            " [ 1.4030886 ]\n",
            " [ 1.3575623 ]\n",
            " [-1.7905142 ]\n",
            " [ 0.28970504]\n",
            " [-1.4595628 ]\n",
            " [ 0.67739886]\n",
            " [ 0.71228826]\n",
            " [-0.9112481 ]\n",
            " [ 0.96300614]\n",
            " [-0.941618  ]\n",
            " [-1.9105281 ]\n",
            " [-0.7087729 ]\n",
            " [ 0.35698146]\n",
            " [-1.7268084 ]\n",
            " [ 0.34789217]\n",
            " [-0.04484744]\n",
            " [ 1.3596399 ]\n",
            " [-0.11152287]\n",
            " [ 0.44642186]\n",
            " [-0.45169705]\n",
            " [-1.9498723 ]\n",
            " [ 1.2060428 ]\n",
            " [-0.47369084]\n",
            " [-0.03690689]\n",
            " [ 0.42043942]\n",
            " [ 1.2900791 ]\n",
            " [-0.0588075 ]\n",
            " [ 0.5382323 ]\n",
            " [ 0.01856804]\n",
            " [ 1.0331929 ]\n",
            " [ 0.9117177 ]\n",
            " [ 0.89940184]\n",
            " [-0.159799  ]\n",
            " [-1.6161282 ]\n",
            " [ 0.339195  ]\n",
            " [-1.6757271 ]\n",
            " [-0.48021153]\n",
            " [ 0.1499152 ]\n",
            " [-0.23478734]\n",
            " [ 0.63136375]\n",
            " [ 0.8503593 ]\n",
            " [-0.44417328]\n",
            " [-0.82739246]\n",
            " [ 0.8860311 ]\n",
            " [ 1.1909164 ]\n",
            " [-0.5732512 ]\n",
            " [ 1.1972291 ]\n",
            " [ 0.28596893]\n",
            " [ 1.6931701 ]\n",
            " [ 0.02725821]\n",
            " [ 0.9667428 ]\n",
            " [-0.36870995]\n",
            " [ 1.0715191 ]\n",
            " [ 1.1083014 ]\n",
            " [-1.8709764 ]\n",
            " [ 0.04229659]\n",
            " [ 1.4054098 ]\n",
            " [ 1.3362954 ]\n",
            " [-1.1640112 ]\n",
            " [ 0.13494411]\n",
            " [-0.2996964 ]\n",
            " [-1.3169658 ]\n",
            " [-1.2210822 ]\n",
            " [ 1.993762  ]\n",
            " [ 0.25608665]\n",
            " [ 0.129295  ]\n",
            " [ 1.8429118 ]\n",
            " [-0.36699665]\n",
            " [ 0.10219052]\n",
            " [-0.25766224]\n",
            " [-0.76538754]\n",
            " [ 1.092603  ]\n",
            " [ 0.6109807 ]\n",
            " [-1.1302342 ]\n",
            " [-1.1918262 ]\n",
            " [ 0.5568643 ]\n",
            " [-0.095244  ]\n",
            " [ 0.27475208]\n",
            " [-1.2611845 ]\n",
            " [-1.0884851 ]\n",
            " [-1.5469313 ]\n",
            " [-1.3295251 ]\n",
            " [-0.83436465]\n",
            " [ 1.6668917 ]\n",
            " [ 1.1267393 ]\n",
            " [ 0.3520589 ]\n",
            " [-0.46707085]\n",
            " [ 1.6263456 ]\n",
            " [ 0.9382169 ]\n",
            " [-0.8489086 ]\n",
            " [ 0.81441706]\n",
            " [ 0.08713438]\n",
            " [-0.80614114]\n",
            " [-0.6506089 ]\n",
            " [-0.5160147 ]\n",
            " [ 0.74363965]\n",
            " [-0.88626754]\n",
            " [ 0.39803523]\n",
            " [-1.397798  ]\n",
            " [ 0.14263517]\n",
            " [-0.4482697 ]\n",
            " [ 2.0155826 ]\n",
            " [ 0.00606613]\n",
            " [ 0.89151347]\n",
            " [-1.382091  ]\n",
            " [ 0.9690329 ]\n",
            " [ 0.42291802]\n",
            " [-0.186951  ]\n",
            " [ 0.19693418]\n",
            " [ 0.02953463]\n",
            " [-0.83464915]\n",
            " [ 0.44396907]\n",
            " [-0.00465867]\n",
            " [ 1.3344721 ]\n",
            " [ 0.94626844]\n",
            " [ 0.32265115]\n",
            " [-0.01253761]\n",
            " [-0.029355  ]\n",
            " [ 1.3338209 ]\n",
            " [-0.62340087]\n",
            " [-0.00817002]\n",
            " [ 0.7742966 ]\n",
            " [-0.96308994]\n",
            " [ 0.28303346]\n",
            " [-0.1450749 ]\n",
            " [-1.6228194 ]\n",
            " [-0.05292807]\n",
            " [-0.09893607]\n",
            " [ 0.42260405]\n",
            " [-0.13903062]\n",
            " [-1.304075  ]\n",
            " [-0.3898724 ]\n",
            " [ 0.6409384 ]\n",
            " [-1.3568294 ]\n",
            " [-0.21386994]\n",
            " [ 2.1305966 ]\n",
            " [ 1.5248966 ]\n",
            " [-1.6215383 ]\n",
            " [ 1.3498532 ]\n",
            " [-1.2043755 ]\n",
            " [-0.27698275]\n",
            " [ 0.35302994]\n",
            " [ 0.79258764]\n",
            " [ 1.2787778 ]\n",
            " [-0.34432074]\n",
            " [-0.7565445 ]\n",
            " [ 1.0310786 ]\n",
            " [ 0.5278382 ]\n",
            " [-0.16816781]\n",
            " [-1.1995932 ]\n",
            " [ 1.9555416 ]\n",
            " [ 0.29706734]\n",
            " [-0.3109884 ]\n",
            " [ 0.62276024]\n",
            " [-1.3260126 ]\n",
            " [ 0.5058207 ]\n",
            " [ 0.706622  ]\n",
            " [ 1.5874145 ]\n",
            " [ 1.7153318 ]\n",
            " [ 0.70258844]\n",
            " [-0.09447751]\n",
            " [ 1.1614529 ]\n",
            " [ 1.0915809 ]\n",
            " [-0.14145543]\n",
            " [-0.781019  ]\n",
            " [-0.8101325 ]\n",
            " [ 0.47904912]\n",
            " [ 0.42174813]\n",
            " [ 0.02860023]\n",
            " [ 0.02467336]\n",
            " [ 0.35650185]\n",
            " [-1.6471882 ]\n",
            " [-0.36680022]\n",
            " [ 0.14919321]\n",
            " [ 0.46671042]\n",
            " [ 1.587695  ]]\n",
            "======real======\n",
            "[-0.46985209  0.12568837 -0.77893005  0.15961156 -0.57916015 -1.67224074\n",
            " -0.15323564 -0.49623679 -1.10308498  1.17730729  0.60438229 -1.30662413\n",
            " -0.15323564 -1.55916344 -0.96362298  0.11814989  1.37707719 -0.19469732\n",
            " -1.57047117  0.51392045  0.64207472  0.52522818  1.86707884  0.90592176\n",
            "  0.95115268 -1.5553942  -0.36808252 -1.1822391   0.54030515 -1.25008548\n",
            " -0.6356988   1.38838492  1.29415384  0.3970739  -1.53277873  0.41215087\n",
            " -1.4950863   0.54407439  0.72876732 -0.95231525  0.84938311 -0.86939189\n",
            " -1.87201064 -1.1822391  -0.50754452 -1.5817789   0.34430449 -0.07031228\n",
            "  0.94738344 -1.21239304  0.35184298 -0.65454502 -1.81170275  1.18861502\n",
            " -0.33792857  0.01638031 -0.07031228  1.13584561  0.14830383  0.1709193\n",
            " -1.24631623  0.2839966   0.69107489  0.69107489  0.15584232 -1.87577989\n",
            "  0.26515038 -1.82677972 -0.49623679  0.16715005 -0.43215965  0.43853558\n",
            "  0.52522818 -0.09669699 -0.71108367  0.84561387  1.08684545 -0.51885225\n",
            "  1.22630746 -0.02508136  1.51276996 -0.11931245  0.72876732 -0.40200571\n",
            "  1.07553772  0.0239188  -1.81170275  0.05407275  1.09438394  1.13207637\n",
            " -1.7551641   0.18976551  0.770229   -1.44608614 -1.15585439  1.86707884\n",
            "  0.14453459  0.27268887  1.86707884 -0.29269765  0.05784199 -0.02508136\n",
            " -1.02770012  0.85315236  0.4234586  -0.86562265 -1.17846985 -0.09669699\n",
            " -0.28138992  0.11438064 -1.1822391  -0.77893005 -1.22747002 -0.90331508\n",
            " -0.88823811  1.50146223  1.06046074  0.29153508  0.23499643  1.60700104\n",
            "  0.98507588 -0.89954584  0.9436142  -0.60177561 -0.41331344 -0.53769847\n",
            "  0.05030351  0.87953706 -0.66585275  0.32922752 -1.49885554  0.27268887\n",
            " -1.20485456  1.86707884 -0.19092807  0.7966137  -1.43100916  1.10946091\n",
            "  0.23499643 -0.20977429  0.38199693 -0.02885061 -1.46493235  0.15584232\n",
            " -0.11931245  1.33938476  0.79284446 -0.14569715 -0.10800472 -1.12946969\n",
            "  1.02653755 -0.61685258  0.28776584  0.9699989  -0.91839206  0.20107324\n",
            " -0.14569715 -1.62324058  0.01261107  0.06914972  0.44984331 -1.12570044\n",
            " -1.49885554 -0.32285159  0.75138278 -1.31793186 -0.24746673  1.86707884\n",
            "  1.60700104 -1.52524025  0.9436142  -1.7551641  -0.31154386  0.25007341\n",
            "  0.78907522  1.26023065 -0.25877446 -0.96362298  0.76645976  0.90592176\n",
            " -0.14569715 -1.13323893  1.86707884  0.55161288  0.16338081  0.47622801\n",
            " -1.1822391   0.94738344  0.78907522  1.6899244   1.84823262  0.78153673\n",
            " -0.2022358   0.99261436  1.78038624 -0.36054403 -0.97493071 -1.0352386\n",
            "  0.34807374  0.76645976  0.03145729 -0.01000439  0.41215087 -1.49885554\n",
            " -0.31154386  0.2236887  -0.18338959  0.8833063 ]\n"
          ]
        }
      ]
    },
    {
      "cell_type": "code",
      "metadata": {
        "id": "AElDSdKvgYf-",
        "outputId": "2374dc39-ad34-459b-b879-358654f141ca",
        "colab": {
          "base_uri": "https://localhost:8080/",
          "height": 282
        }
      },
      "source": [
        "plt.plot(model.predict(x_test),label='predict')\n",
        "plt.plot(y_test, label='real value')\n",
        "#plt.plot(model.predict(x_test)-y_test)\n",
        "plt.xlim(0,50)\n",
        "plt.legend()\n",
        "plt.show"
      ],
      "execution_count": 31,
      "outputs": [
        {
          "output_type": "execute_result",
          "data": {
            "text/plain": [
              "<function matplotlib.pyplot.show>"
            ]
          },
          "metadata": {},
          "execution_count": 31
        },
        {
          "output_type": "display_data",
          "data": {
            "image/png": "[encoded data removed]",
            "text/plain": [
              "<Figure size 432x288 with 1 Axes>"
            ]
          },
          "metadata": {
            "needs_background": "light"
          }
        }
      ]
    }
  ]
}