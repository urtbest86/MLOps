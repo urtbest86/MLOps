{
  "nbformat": 4,
  "nbformat_minor": 0,
  "metadata": {
    "colab": {
      "name": "apiParse.ipynb",
      "provenance": [],
      "authorship_tag": "ABX9TyNzldkhNqMKEM/KhhlITmqP",
      "include_colab_link": true
    },
    "kernelspec": {
      "name": "python3",
      "display_name": "Python 3"
    },
    "language_info": {
      "name": "python"
    }
  },
  "cells": [
    {
      "cell_type": "markdown",
      "metadata": {
        "id": "view-in-github",
        "colab_type": "text"
      },
      "source": [
        "<a href=\"https://colab.research.google.com/github/urtbest86/MLOps/blob/master/apiParse.ipynb\" target=\"_parent\"><img src=\"https://colab.research.google.com/assets/colab-badge.svg\" alt=\"Open In Colab\"/></a>"
      ]
    },
    {
      "cell_type": "code",
      "metadata": {
        "colab": {
          "base_uri": "https://localhost:8080/"
        },
        "id": "xJteTquBXeYb",
        "outputId": "84f8df83-7f76-4ac2-acf7-ec21f376584e"
      },
      "source": [
        "!pip install xmltodict"
      ],
      "execution_count": 35,
      "outputs": [
        {
          "output_type": "stream",
          "name": "stdout",
          "text": [
            "Collecting xmltodict\n",
            "  Downloading xmltodict-0.12.0-py2.py3-none-any.whl (9.2 kB)\n",
            "Installing collected packages: xmltodict\n",
            "Successfully installed xmltodict-0.12.0\n"
          ]
        }
      ]
    },
    {
      "cell_type": "markdown",
      "metadata": {
        "id": "TtK9iuZ2l_nT"
      },
      "source": [
        "#공공데이터포털"
      ]
    },
    {
      "cell_type": "code",
      "metadata": {
        "colab": {
          "base_uri": "https://localhost:8080/"
        },
        "id": "TLp9REZp-eGj",
        "outputId": "f3552554-facf-4c9d-fa1d-aaa64f0c13d9"
      },
      "source": [
        "from urllib.request import urlopen\n",
        "from urllib.parse import urlencode, unquote, quote_plus\n",
        "import urllib\n",
        "import requests\n",
        "import xmltodict\n",
        "import json\n",
        "#http://apis.data.go.kr/1360000/AsosDalyInfoService/getWthrDataList?sidoName=서울&numOfRows=10&pageNo=1&dataCd=ASOS&dateCd=DAY&startDt=20210916&endDt=20210916&stnIds=108&serviceKey=i3xB3pWaIOZJUEITVZg6TLQ5XnSHd0ZcEJgW75L94nZXWhhBtjuXZ%2BK1rfI7K4FnwAFfBFFoDyY4Yogz9Dae2w%3D%3D\n",
        "key='i3xB3pWaIOZJUEITVZg6TLQ5XnSHd0ZcEJgW75L94nZXWhhBtjuXZ%2BK1rfI7K4FnwAFfBFFoDyY4Yogz9Dae2w%3D%3D'\n",
        "url = 'http://apis.data.go.kr/1360000/AsosDalyInfoService/getWthrDataList?serviceKey='\n",
        "queryParams = urlencode({ quote_plus('sidoName') : '서울', \n",
        "                          quote_plus('numOfRows') : 1,\n",
        "                          quote_plus('pageNo') : 1,\n",
        "                          quote_plus('dataCd') : 'ASOS',\n",
        "                          quote_plus('dateCd') : 'DAY',\n",
        "                          quote_plus('startDt') : '20210916',\n",
        "                          quote_plus('endDt') : '20210917',\n",
        "                          quote_plus('stnIds') : 108})\n",
        "\n",
        "url2=url+key+'&'+queryParams\n",
        "response = urlopen(url2)\n",
        "# print(type(response)) # HTTPSresponse \n",
        "results = response.read().decode(\"utf-8\")\n",
        "\n",
        "results_to_json = xmltodict.parse(results)\n",
        "data = json.loads(json.dumps(results_to_json))\n",
        "print(type(data)) \n",
        "print(data) \n",
        "len(data)\n"
      ],
      "execution_count": 61,
      "outputs": [
        {
          "output_type": "stream",
          "name": "stdout",
          "text": [
            "<class 'dict'>\n",
            "{'response': {'header': {'resultCode': '00', 'resultMsg': 'NORMAL_SERVICE'}, 'body': {'dataType': 'XML', 'items': {'item': {'stnId': '108', 'stnNm': '서울', 'tm': '2021-09-16', 'avgTa': '22.9', 'minTa': '18.0', 'minTaHrmt': '551', 'maxTa': '27.3', 'maxTaHrmt': '1323', 'mi10MaxRn': None, 'mi10MaxRnHrmt': None, 'hr1MaxRn': None, 'hr1MaxRnHrmt': None, 'sumRnDur': None, 'sumRn': None, 'maxInsWs': '8.6', 'maxInsWsWd': '50', 'maxInsWsHrmt': '911', 'maxWs': '4.6', 'maxWsWd': '50', 'maxWsHrmt': '913', 'avgWs': '2.6', 'hr24SumRws': '2213', 'maxWd': '50', 'avgTd': '14.7', 'minRhm': '46', 'minRhmHrmt': '1335', 'avgRhm': '61.1', 'avgPv': '16.8', 'avgPa': '1002.8', 'maxPs': '1016.3', 'maxPsHrmt': '1', 'minPs': '1010.1', 'minPsHrmt': '1607', 'avgPs': '1012.6', 'ssDur': '12.4', 'sumSsHr': '9.1', 'hr1MaxIcsrHrmt': '1100', 'hr1MaxIcsr': '3.06', 'sumGsr': '20.18', 'ddMefs': None, 'ddMefsHrmt': None, 'ddMes': None, 'ddMesHrmt': None, 'sumDpthFhsc': None, 'avgTca': '5.1', 'avgLmac': '0.0', 'avgTs': '26.6', 'minTg': '12.6', 'avgCm5Te': '24.5', 'avgCm10Te': '24.1', 'avgCm20Te': '24.1', 'avgCm30Te': '24.4', 'avgM05Te': '24.4', 'avgM10Te': '23.6', 'avgM15Te': '23.6', 'avgM30Te': '20.0', 'avgM50Te': '17.0', 'sumLrgEv': '4.1', 'sumSmlEv': '5.8', 'n99Rn': None, 'iscs': None, 'sumFogDur': None}}, 'numOfRows': '1', 'pageNo': '1', 'totalCount': '2'}}}\n"
          ]
        },
        {
          "output_type": "execute_result",
          "data": {
            "text/plain": [
              "1"
            ]
          },
          "metadata": {},
          "execution_count": 61
        }
      ]
    },
    {
      "cell_type": "markdown",
      "metadata": {
        "id": "tgbK6GfHl1WR"
      },
      "source": [
        "#openWeather API"
      ]
    },
    {
      "cell_type": "code",
      "metadata": {
        "colab": {
          "base_uri": "https://localhost:8080/"
        },
        "id": "bV8hpwJwZ-qU",
        "outputId": "e9002286-c95b-4693-fce0-8a28d040d559"
      },
      "source": [
        "weather=data['response']['body']['items']['item']\n",
        "len(weather)\n",
        "print(weather['stnNm'])"
      ],
      "execution_count": 59,
      "outputs": [
        {
          "output_type": "stream",
          "name": "stdout",
          "text": [
            "서울\n"
          ]
        }
      ]
    },
    {
      "cell_type": "code",
      "metadata": {
        "colab": {
          "base_uri": "https://localhost:8080/"
        },
        "id": "mPsoPtmldzsN",
        "outputId": "d3a8f814-c494-4895-de85-4f63e376b752"
      },
      "source": [
        "from urllib.request import urlopen\n",
        "from urllib.parse import urlencode, unquote, quote_plus\n",
        "import urllib\n",
        "import requests\n",
        "import xmltodict\n",
        "import json\n",
        "#http://api.openweathermap.org/data/2.5/weather?q=Seoul&appid=ce32a3cbedc7c110a0b23ef73ee80c00\n",
        "key='ce32a3cbedc7c110a0b23ef73ee80c00'\n",
        "url = 'http://api.openweathermap.org/data/2.5/weather?q=Seoul&appid='\n",
        "# queryParams = urlencode({ quote_plus('sidoName') : '서울', \n",
        "#                           quote_plus('numOfRows') : 1,\n",
        "#                           quote_plus('pageNo') : 1,\n",
        "#                           quote_plus('dataCd') : 'ASOS',\n",
        "#                           quote_plus('dateCd') : 'DAY',\n",
        "#                           quote_plus('startDt') : '20210916',\n",
        "#                           quote_plus('endDt') : '20210917',\n",
        "#                           quote_plus('stnIds') : 108})\n",
        "\n",
        "url2=url+key+'&'+queryParams\n",
        "response = urlopen(url2)\n",
        "# print(type(response)) # HTTPSresponse \n",
        "results = response.read().decode(\"utf-8\")\n",
        "\n",
        "# results_to_json = xmltodict.parse(results)\n",
        "data = json.loads(json.dumps(results))\n",
        "print(type(data)) \n",
        "print(data) \n",
        "len(data)\n"
      ],
      "execution_count": 63,
      "outputs": [
        {
          "output_type": "stream",
          "name": "stdout",
          "text": [
            "<class 'str'>\n",
            "{\"coord\":{\"lon\":126.9778,\"lat\":37.5683},\"weather\":[{\"id\":803,\"main\":\"Clouds\",\"description\":\"broken clouds\",\"icon\":\"04d\"}],\"base\":\"stations\",\"main\":{\"temp\":294.77,\"feels_like\":294.24,\"temp_min\":291.57,\"temp_max\":294.81,\"pressure\":1017,\"humidity\":48,\"sea_level\":1017,\"grnd_level\":1010},\"visibility\":10000,\"wind\":{\"speed\":1.03,\"deg\":304,\"gust\":1.47},\"clouds\":{\"all\":83},\"dt\":1634278434,\"sys\":{\"type\":1,\"id\":5509,\"country\":\"KR\",\"sunrise\":1634247586,\"sunset\":1634288144},\"timezone\":32400,\"id\":1835848,\"name\":\"Seoul\",\"cod\":200}\n"
          ]
        },
        {
          "output_type": "execute_result",
          "data": {
            "text/plain": [
              "521"
            ]
          },
          "metadata": {},
          "execution_count": 63
        }
      ]
    },
    {
      "cell_type": "code",
      "metadata": {
        "colab": {
          "base_uri": "https://localhost:8080/"
        },
        "id": "x1UaWnfHUimu",
        "outputId": "c4daccaa-e627-4a55-b939-14d691ed7b5e"
      },
      "source": [
        "len(rows)"
      ],
      "execution_count": 24,
      "outputs": [
        {
          "output_type": "execute_result",
          "data": {
            "text/plain": [
              "0"
            ]
          },
          "metadata": {},
          "execution_count": 24
        }
      ]
    }
  ]
}