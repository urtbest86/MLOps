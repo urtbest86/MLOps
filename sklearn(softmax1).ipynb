{
  "nbformat": 4,
  "nbformat_minor": 0,
  "metadata": {
    "colab": {
      "name": "sklearn.ipynb",
      "provenance": [],
      "collapsed_sections": [],
      "include_colab_link": true
    },
    "kernelspec": {
      "name": "python3",
      "display_name": "Python 3"
    },
    "language_info": {
      "name": "python"
    }
  },
  "cells": [
    {
      "cell_type": "markdown",
      "metadata": {
        "id": "view-in-github",
        "colab_type": "text"
      },
      "source": [
        "<a href=\"https://colab.research.google.com/github/urtbest86/MLOps/blob/master/sklearn(softmax1).ipynb\" target=\"_parent\"><img src=\"https://colab.research.google.com/assets/colab-badge.svg\" alt=\"Open In Colab\"/></a>"
      ]
    },
    {
      "cell_type": "code",
      "metadata": {
        "id": "QJbY3x4wQE03"
      },
      "source": [
        "import pandas as pd\n",
        "import numpy as np\n",
        "from tensorflow.keras.models import Sequential\n",
        "from tensorflow.keras.layers import Dense"
      ],
      "execution_count": 144,
      "outputs": []
    },
    {
      "cell_type": "code",
      "metadata": {
        "colab": {
          "resources": {
            "http://localhost:8080/nbextensions/google.colab/files.js": {
              "data": "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",
              "ok": true,
              "headers": [
                [
                  "content-type",
                  "application/javascript"
                ]
              ],
              "status": 200,
              "status_text": ""
            }
          },
          "base_uri": "https://localhost:8080/",
          "height": 72
        },
        "id": "WvZubhuiQIwP",
        "outputId": "b288c586-7761-4008-f863-8d21e1d97834"
      },
      "source": [
        "from google.colab import files\n",
        "import io\n",
        "data = files.upload()"
      ],
      "execution_count": 145,
      "outputs": [
        {
          "output_type": "display_data",
          "data": {
            "text/html": [
              "\n",
              "     <input type=\"file\" id=\"files-409d60b4-b7f8-48f9-ae61-96ea3fc33a8b\" name=\"files[]\" multiple disabled\n",
              "        style=\"border:none\" />\n",
              "     <output id=\"result-409d60b4-b7f8-48f9-ae61-96ea3fc33a8b\">\n",
              "      Upload widget is only available when the cell has been executed in the\n",
              "      current browser session. Please rerun this cell to enable.\n",
              "      </output>\n",
              "      <script src=\"/nbextensions/google.colab/files.js\"></script> "
            ],
            "text/plain": [
              "<IPython.core.display.HTML object>"
            ]
          },
          "metadata": {}
        },
        {
          "output_type": "stream",
          "name": "stdout",
          "text": [
            "Saving result.csv to result (5).csv\n"
          ]
        }
      ]
    },
    {
      "cell_type": "code",
      "metadata": {
        "id": "zAY4X4A5QI39"
      },
      "source": [
        "df = pd.read_csv('result.csv')"
      ],
      "execution_count": 149,
      "outputs": []
    },
    {
      "cell_type": "code",
      "metadata": {
        "id": "QbuCnUhLQI7O"
      },
      "source": [
        "train=df.sample(frac=0.8)\n",
        "test=df.sample(frac=0.2)"
      ],
      "execution_count": 150,
      "outputs": []
    },
    {
      "cell_type": "code",
      "metadata": {
        "id": "crGyIXEh5dfi"
      },
      "source": [
        "mean = train.mean(axis=0)\n",
        "train -= mean\n",
        "std = train.std(axis=0)\n",
        "train /= std\n",
        "\n",
        "test -= mean\n",
        "test /= std"
      ],
      "execution_count": 151,
      "outputs": []
    },
    {
      "cell_type": "code",
      "metadata": {
        "id": "X4ACu2b2QI-O"
      },
      "source": [
        "train_data_set = train.values\n",
        "x_train = train_data_set[:, 2:-1].astype(float)\n",
        "y_train = train_data_set[:, -1].astype(float)"
      ],
      "execution_count": 152,
      "outputs": []
    },
    {
      "cell_type": "code",
      "metadata": {
        "id": "chZ5qJ_BRrdB"
      },
      "source": [
        "test_data_set = test.values\n",
        "x_test = test_data_set[:, 2:-1].astype(float)\n",
        "y_test = test_data_set[:, -1].astype(float)"
      ],
      "execution_count": 153,
      "outputs": []
    },
    {
      "cell_type": "code",
      "metadata": {
        "id": "vpnvoSNUQJGX"
      },
      "source": [
        "from tensorflow.keras.models import Sequential\n",
        "from tensorflow.keras.layers import Dense\n",
        "\n",
        "model = Sequential()\n",
        "model.add(Dense(1024, input_dim = 11, activation='softmax'))\n",
        "model.add(Dense(500,activation='softmax'))\n",
        "model.add(Dense(300,activation='softmax'))\n",
        "model.add(Dense(200,activation='softmax'))\n",
        "model.add(Dense(1))"
      ],
      "execution_count": 154,
      "outputs": []
    },
    {
      "cell_type": "code",
      "metadata": {
        "id": "FccnZKMlYXmt"
      },
      "source": [
        "model.compile(loss='mse', optimizer='adam',metrics=['mae'])"
      ],
      "execution_count": 155,
      "outputs": []
    },
    {
      "cell_type": "code",
      "metadata": {
        "colab": {
          "base_uri": "https://localhost:8080/"
        },
        "id": "j0UmXBFEYXyr",
        "outputId": "282a860e-b497-4b0f-890a-156396fa2eaf"
      },
      "source": [
        "hist=model.fit(x_train, y_train, epochs=120, batch_size=32)"
      ],
      "execution_count": 156,
      "outputs": [
        {
          "output_type": "stream",
          "name": "stdout",
          "text": [
            "Epoch 1/120\n",
            "26/26 [==============================] - 1s 12ms/step - loss: 0.9997 - mae: 0.8170\n",
            "Epoch 2/120\n",
            "26/26 [==============================] - 0s 11ms/step - loss: 0.9990 - mae: 0.8166\n",
            "Epoch 3/120\n",
            "26/26 [==============================] - 0s 12ms/step - loss: 0.9989 - mae: 0.8163\n",
            "Epoch 4/120\n",
            "26/26 [==============================] - 0s 12ms/step - loss: 0.9992 - mae: 0.8162\n",
            "Epoch 5/120\n",
            "26/26 [==============================] - 0s 13ms/step - loss: 0.9989 - mae: 0.8163\n",
            "Epoch 6/120\n",
            "26/26 [==============================] - 0s 13ms/step - loss: 0.9989 - mae: 0.8163\n",
            "Epoch 7/120\n",
            "26/26 [==============================] - 0s 12ms/step - loss: 0.9990 - mae: 0.8163\n",
            "Epoch 8/120\n",
            "26/26 [==============================] - 0s 11ms/step - loss: 0.9993 - mae: 0.8165\n",
            "Epoch 9/120\n",
            "26/26 [==============================] - 0s 12ms/step - loss: 0.9989 - mae: 0.8161\n",
            "Epoch 10/120\n",
            "26/26 [==============================] - 0s 11ms/step - loss: 0.9989 - mae: 0.8160\n",
            "Epoch 11/120\n",
            "26/26 [==============================] - 0s 12ms/step - loss: 0.9989 - mae: 0.8161\n",
            "Epoch 12/120\n",
            "26/26 [==============================] - 0s 12ms/step - loss: 0.9989 - mae: 0.8161\n",
            "Epoch 13/120\n",
            "26/26 [==============================] - 0s 12ms/step - loss: 0.9989 - mae: 0.8160\n",
            "Epoch 14/120\n",
            "26/26 [==============================] - 0s 11ms/step - loss: 0.9993 - mae: 0.8161\n",
            "Epoch 15/120\n",
            "26/26 [==============================] - 0s 12ms/step - loss: 0.9989 - mae: 0.8159\n",
            "Epoch 16/120\n",
            "26/26 [==============================] - 0s 12ms/step - loss: 0.9990 - mae: 0.8163\n",
            "Epoch 17/120\n",
            "26/26 [==============================] - 0s 11ms/step - loss: 0.9990 - mae: 0.8163\n",
            "Epoch 18/120\n",
            "26/26 [==============================] - 0s 11ms/step - loss: 0.9990 - mae: 0.8162\n",
            "Epoch 19/120\n",
            "26/26 [==============================] - 0s 12ms/step - loss: 0.9989 - mae: 0.8161\n",
            "Epoch 20/120\n",
            "26/26 [==============================] - 0s 11ms/step - loss: 0.9990 - mae: 0.8162\n",
            "Epoch 21/120\n",
            "26/26 [==============================] - 0s 11ms/step - loss: 0.9989 - mae: 0.8161\n",
            "Epoch 22/120\n",
            "26/26 [==============================] - 0s 11ms/step - loss: 0.9989 - mae: 0.8160\n",
            "Epoch 23/120\n",
            "26/26 [==============================] - 0s 11ms/step - loss: 0.9989 - mae: 0.8160\n",
            "Epoch 24/120\n",
            "26/26 [==============================] - 0s 11ms/step - loss: 0.9992 - mae: 0.8164\n",
            "Epoch 25/120\n",
            "26/26 [==============================] - 0s 11ms/step - loss: 0.9990 - mae: 0.8163\n",
            "Epoch 26/120\n",
            "26/26 [==============================] - 0s 12ms/step - loss: 0.9991 - mae: 0.8162\n",
            "Epoch 27/120\n",
            "26/26 [==============================] - 0s 11ms/step - loss: 0.9992 - mae: 0.8163\n",
            "Epoch 28/120\n",
            "26/26 [==============================] - 0s 11ms/step - loss: 0.9992 - mae: 0.8165\n",
            "Epoch 29/120\n",
            "26/26 [==============================] - 0s 11ms/step - loss: 0.9990 - mae: 0.8163\n",
            "Epoch 30/120\n",
            "26/26 [==============================] - 0s 11ms/step - loss: 0.9993 - mae: 0.8161\n",
            "Epoch 31/120\n",
            "26/26 [==============================] - 0s 11ms/step - loss: 0.9989 - mae: 0.8159\n",
            "Epoch 32/120\n",
            "26/26 [==============================] - 0s 11ms/step - loss: 0.9993 - mae: 0.8164\n",
            "Epoch 33/120\n",
            "26/26 [==============================] - 0s 12ms/step - loss: 0.9989 - mae: 0.8162\n",
            "Epoch 34/120\n",
            "26/26 [==============================] - 0s 11ms/step - loss: 0.9989 - mae: 0.8161\n",
            "Epoch 35/120\n",
            "26/26 [==============================] - 0s 10ms/step - loss: 0.9988 - mae: 0.8161\n",
            "Epoch 36/120\n",
            "26/26 [==============================] - 0s 11ms/step - loss: 0.9990 - mae: 0.8162\n",
            "Epoch 37/120\n",
            "26/26 [==============================] - 0s 11ms/step - loss: 0.9992 - mae: 0.8161\n",
            "Epoch 38/120\n",
            "26/26 [==============================] - 0s 11ms/step - loss: 0.9990 - mae: 0.8162\n",
            "Epoch 39/120\n",
            "26/26 [==============================] - 0s 11ms/step - loss: 0.9990 - mae: 0.8160\n",
            "Epoch 40/120\n",
            "26/26 [==============================] - 0s 12ms/step - loss: 0.9991 - mae: 0.8159\n",
            "Epoch 41/120\n",
            "26/26 [==============================] - 0s 11ms/step - loss: 0.9990 - mae: 0.8161\n",
            "Epoch 42/120\n",
            "26/26 [==============================] - 0s 11ms/step - loss: 0.9994 - mae: 0.8166\n",
            "Epoch 43/120\n",
            "26/26 [==============================] - 0s 11ms/step - loss: 0.9993 - mae: 0.8162\n",
            "Epoch 44/120\n",
            "26/26 [==============================] - 0s 11ms/step - loss: 0.9989 - mae: 0.8160\n",
            "Epoch 45/120\n",
            "26/26 [==============================] - 0s 11ms/step - loss: 0.9988 - mae: 0.8160\n",
            "Epoch 46/120\n",
            "26/26 [==============================] - 0s 10ms/step - loss: 0.9992 - mae: 0.8161\n",
            "Epoch 47/120\n",
            "26/26 [==============================] - 0s 11ms/step - loss: 0.9989 - mae: 0.8161\n",
            "Epoch 48/120\n",
            "26/26 [==============================] - 0s 11ms/step - loss: 0.9990 - mae: 0.8163\n",
            "Epoch 49/120\n",
            "26/26 [==============================] - 0s 11ms/step - loss: 0.9989 - mae: 0.8163\n",
            "Epoch 50/120\n",
            "26/26 [==============================] - 0s 11ms/step - loss: 0.9992 - mae: 0.8162\n",
            "Epoch 51/120\n",
            "26/26 [==============================] - 0s 11ms/step - loss: 0.9991 - mae: 0.8161\n",
            "Epoch 52/120\n",
            "26/26 [==============================] - 0s 10ms/step - loss: 0.9991 - mae: 0.8163\n",
            "Epoch 53/120\n",
            "26/26 [==============================] - 0s 12ms/step - loss: 0.9990 - mae: 0.8161\n",
            "Epoch 54/120\n",
            "26/26 [==============================] - 0s 12ms/step - loss: 0.9989 - mae: 0.8162\n",
            "Epoch 55/120\n",
            "26/26 [==============================] - 0s 12ms/step - loss: 0.9989 - mae: 0.8162\n",
            "Epoch 56/120\n",
            "26/26 [==============================] - 0s 11ms/step - loss: 0.9990 - mae: 0.8163\n",
            "Epoch 57/120\n",
            "26/26 [==============================] - 0s 12ms/step - loss: 0.9989 - mae: 0.8162\n",
            "Epoch 58/120\n",
            "26/26 [==============================] - 0s 11ms/step - loss: 0.9992 - mae: 0.8160\n",
            "Epoch 59/120\n",
            "26/26 [==============================] - 0s 11ms/step - loss: 0.9990 - mae: 0.8160\n",
            "Epoch 60/120\n",
            "26/26 [==============================] - 0s 12ms/step - loss: 0.9989 - mae: 0.8160\n",
            "Epoch 61/120\n",
            "26/26 [==============================] - 0s 12ms/step - loss: 0.9989 - mae: 0.8162\n",
            "Epoch 62/120\n",
            "26/26 [==============================] - 0s 12ms/step - loss: 0.9991 - mae: 0.8163\n",
            "Epoch 63/120\n",
            "26/26 [==============================] - 0s 12ms/step - loss: 0.9990 - mae: 0.8163\n",
            "Epoch 64/120\n",
            "26/26 [==============================] - 0s 12ms/step - loss: 0.9989 - mae: 0.8162\n",
            "Epoch 65/120\n",
            "26/26 [==============================] - 0s 13ms/step - loss: 0.9989 - mae: 0.8161\n",
            "Epoch 66/120\n",
            "26/26 [==============================] - 0s 12ms/step - loss: 0.9989 - mae: 0.8161\n",
            "Epoch 67/120\n",
            "26/26 [==============================] - 0s 12ms/step - loss: 0.9990 - mae: 0.8162\n",
            "Epoch 68/120\n",
            "26/26 [==============================] - 0s 13ms/step - loss: 0.9990 - mae: 0.8161\n",
            "Epoch 69/120\n",
            "26/26 [==============================] - 0s 12ms/step - loss: 0.9989 - mae: 0.8162\n",
            "Epoch 70/120\n",
            "26/26 [==============================] - 0s 13ms/step - loss: 0.9990 - mae: 0.8161\n",
            "Epoch 71/120\n",
            "26/26 [==============================] - 0s 12ms/step - loss: 0.9989 - mae: 0.8162\n",
            "Epoch 72/120\n",
            "26/26 [==============================] - 0s 12ms/step - loss: 0.9992 - mae: 0.8162\n",
            "Epoch 73/120\n",
            "26/26 [==============================] - 0s 12ms/step - loss: 0.9989 - mae: 0.8161\n",
            "Epoch 74/120\n",
            "26/26 [==============================] - 0s 12ms/step - loss: 0.9989 - mae: 0.8161\n",
            "Epoch 75/120\n",
            "26/26 [==============================] - 0s 12ms/step - loss: 0.9989 - mae: 0.8161\n",
            "Epoch 76/120\n",
            "26/26 [==============================] - 0s 11ms/step - loss: 0.9990 - mae: 0.8161\n",
            "Epoch 77/120\n",
            "26/26 [==============================] - 0s 12ms/step - loss: 0.9989 - mae: 0.8161\n",
            "Epoch 78/120\n",
            "26/26 [==============================] - 0s 12ms/step - loss: 0.9990 - mae: 0.8164\n",
            "Epoch 79/120\n",
            "26/26 [==============================] - 0s 11ms/step - loss: 0.9997 - mae: 0.8162\n",
            "Epoch 80/120\n",
            "26/26 [==============================] - 0s 12ms/step - loss: 0.9988 - mae: 0.8160\n",
            "Epoch 81/120\n",
            "26/26 [==============================] - 0s 12ms/step - loss: 0.9988 - mae: 0.8161\n",
            "Epoch 82/120\n",
            "26/26 [==============================] - 0s 12ms/step - loss: 0.9991 - mae: 0.8162\n",
            "Epoch 83/120\n",
            "26/26 [==============================] - 0s 11ms/step - loss: 0.9998 - mae: 0.8167\n",
            "Epoch 84/120\n",
            "26/26 [==============================] - 0s 11ms/step - loss: 0.9987 - mae: 0.8164\n",
            "Epoch 85/120\n",
            "26/26 [==============================] - 0s 11ms/step - loss: 0.9991 - mae: 0.8163\n",
            "Epoch 86/120\n",
            "26/26 [==============================] - 0s 11ms/step - loss: 0.9989 - mae: 0.8161\n",
            "Epoch 87/120\n",
            "26/26 [==============================] - 0s 11ms/step - loss: 0.9989 - mae: 0.8161\n",
            "Epoch 88/120\n",
            "26/26 [==============================] - 0s 11ms/step - loss: 0.9989 - mae: 0.8161\n",
            "Epoch 89/120\n",
            "26/26 [==============================] - 0s 11ms/step - loss: 0.9991 - mae: 0.8160\n",
            "Epoch 90/120\n",
            "26/26 [==============================] - 0s 11ms/step - loss: 0.9990 - mae: 0.8163\n",
            "Epoch 91/120\n",
            "26/26 [==============================] - 0s 11ms/step - loss: 0.9991 - mae: 0.8161\n",
            "Epoch 92/120\n",
            "26/26 [==============================] - 0s 11ms/step - loss: 0.9990 - mae: 0.8159\n",
            "Epoch 93/120\n",
            "26/26 [==============================] - 0s 12ms/step - loss: 0.9991 - mae: 0.8161\n",
            "Epoch 94/120\n",
            "26/26 [==============================] - 0s 11ms/step - loss: 0.9988 - mae: 0.8161\n",
            "Epoch 95/120\n",
            "26/26 [==============================] - 0s 11ms/step - loss: 0.9989 - mae: 0.8161\n",
            "Epoch 96/120\n",
            "26/26 [==============================] - 0s 11ms/step - loss: 0.9989 - mae: 0.8161\n",
            "Epoch 97/120\n",
            "26/26 [==============================] - 0s 11ms/step - loss: 0.9992 - mae: 0.8165\n",
            "Epoch 98/120\n",
            "26/26 [==============================] - 0s 11ms/step - loss: 0.9989 - mae: 0.8164\n",
            "Epoch 99/120\n",
            "26/26 [==============================] - 0s 11ms/step - loss: 0.9989 - mae: 0.8162\n",
            "Epoch 100/120\n",
            "26/26 [==============================] - 0s 12ms/step - loss: 0.9990 - mae: 0.8161\n",
            "Epoch 101/120\n",
            "26/26 [==============================] - 0s 11ms/step - loss: 0.9989 - mae: 0.8161\n",
            "Epoch 102/120\n",
            "26/26 [==============================] - 0s 12ms/step - loss: 0.9990 - mae: 0.8160\n",
            "Epoch 103/120\n",
            "26/26 [==============================] - 0s 11ms/step - loss: 0.9989 - mae: 0.8160\n",
            "Epoch 104/120\n",
            "26/26 [==============================] - 0s 11ms/step - loss: 0.9992 - mae: 0.8163\n",
            "Epoch 105/120\n",
            "26/26 [==============================] - 0s 11ms/step - loss: 0.9989 - mae: 0.8160\n",
            "Epoch 106/120\n",
            "26/26 [==============================] - 0s 11ms/step - loss: 0.9990 - mae: 0.8162\n",
            "Epoch 107/120\n",
            "26/26 [==============================] - 0s 12ms/step - loss: 0.9989 - mae: 0.8161\n",
            "Epoch 108/120\n",
            "26/26 [==============================] - 0s 11ms/step - loss: 0.9989 - mae: 0.8161\n",
            "Epoch 109/120\n",
            "26/26 [==============================] - 0s 11ms/step - loss: 0.9992 - mae: 0.8162\n",
            "Epoch 110/120\n",
            "26/26 [==============================] - 0s 11ms/step - loss: 0.9990 - mae: 0.8162\n",
            "Epoch 111/120\n",
            "26/26 [==============================] - 0s 12ms/step - loss: 0.9990 - mae: 0.8163\n",
            "Epoch 112/120\n",
            "26/26 [==============================] - 0s 12ms/step - loss: 0.9989 - mae: 0.8163\n",
            "Epoch 113/120\n",
            "26/26 [==============================] - 0s 12ms/step - loss: 0.9989 - mae: 0.8162\n",
            "Epoch 114/120\n",
            "26/26 [==============================] - 0s 12ms/step - loss: 0.9990 - mae: 0.8160\n",
            "Epoch 115/120\n",
            "26/26 [==============================] - 0s 12ms/step - loss: 0.9989 - mae: 0.8160\n",
            "Epoch 116/120\n",
            "26/26 [==============================] - 0s 11ms/step - loss: 0.9989 - mae: 0.8162\n",
            "Epoch 117/120\n",
            "26/26 [==============================] - 0s 11ms/step - loss: 0.9989 - mae: 0.8162\n",
            "Epoch 118/120\n",
            "26/26 [==============================] - 0s 11ms/step - loss: 0.9992 - mae: 0.8160\n",
            "Epoch 119/120\n",
            "26/26 [==============================] - 0s 13ms/step - loss: 0.9989 - mae: 0.8160\n",
            "Epoch 120/120\n",
            "26/26 [==============================] - 0s 12ms/step - loss: 0.9993 - mae: 0.8161\n"
          ]
        }
      ]
    },
    {
      "cell_type": "code",
      "metadata": {
        "colab": {
          "base_uri": "https://localhost:8080/",
          "height": 279
        },
        "id": "j5z2xWRArxKb",
        "outputId": "e4d38dad-ce62-4a6b-98d1-b99268178197"
      },
      "source": [
        "y_acc = hist.history['mae']\n",
        "y_loss = hist.history['loss']#x_len = np.arange(len(y_loss)) \n",
        "x_len = np.arange(120)\n",
        "plt.plot(x_len, y_acc[:120], marker='.', c='red', label=\"mae\")\n",
        "plt.plot(x_len, y_loss[:120], marker='.', c='blue', label=\"Loss\")\n",
        "\n",
        "plt.legend(loc='upper right')\n",
        "plt.grid()\n",
        "plt.xlabel('epoch')\n",
        "plt.ylabel('loss')\n",
        "plt.show()"
      ],
      "execution_count": 158,
      "outputs": [
        {
          "output_type": "display_data",
          "data": {
            "image/png": "[encoded data removed]",
            "text/plain": [
              "<Figure size 432x288 with 1 Axes>"
            ]
          },
          "metadata": {
            "needs_background": "light"
          }
        }
      ]
    },
    {
      "cell_type": "code",
      "metadata": {
        "colab": {
          "base_uri": "https://localhost:8080/"
        },
        "id": "Ht60MsA28k0B",
        "outputId": "b872f96f-8b67-437a-d91c-5aeb4035f9d7"
      },
      "source": [
        "print('## training loss and acc ##')\n",
        "print(hist.history['loss'])\n",
        "print(hist.history['mae'])"
      ],
      "execution_count": 159,
      "outputs": [
        {
          "output_type": "stream",
          "name": "stdout",
          "text": [
            "## training loss and acc ##\n",
            "[0.9997471570968628, 0.9989733099937439, 0.9989306926727295, 0.9991597533226013, 0.9989334940910339, 0.9989340305328369, 0.998956024646759, 0.9993031024932861, 0.9989495873451233, 0.998885989189148, 0.9989044666290283, 0.9989330768585205, 0.998862087726593, 0.9993000030517578, 0.9988952875137329, 0.9990448355674744, 0.9990481734275818, 0.9989655613899231, 0.998867928981781, 0.998993456363678, 0.9988721609115601, 0.9989445805549622, 0.9988552331924438, 0.9991540312767029, 0.9989513754844666, 0.9991269111633301, 0.9991697072982788, 0.9991927146911621, 0.9990057945251465, 0.9993181824684143, 0.9988556504249573, 0.9992833137512207, 0.998869001865387, 0.9988844990730286, 0.9988435506820679, 0.9989800453186035, 0.9992468357086182, 0.9989870190620422, 0.9990251064300537, 0.999125063419342, 0.9989917278289795, 0.999377429485321, 0.9992861151695251, 0.9988667964935303, 0.9988424777984619, 0.9991677403450012, 0.9988735914230347, 0.9990463256835938, 0.9988972544670105, 0.9992499351501465, 0.9991328120231628, 0.9991151094436646, 0.999001681804657, 0.9989485740661621, 0.9988963603973389, 0.9990321397781372, 0.9989413619041443, 0.9991921782493591, 0.99896240234375, 0.9989321827888489, 0.9989368319511414, 0.9990931749343872, 0.9990274310112, 0.9989386796951294, 0.9989047646522522, 0.9989132881164551, 0.9989630579948425, 0.9990256428718567, 0.998927891254425, 0.9989897012710571, 0.9988924860954285, 0.9991843104362488, 0.998945951461792, 0.9988905787467957, 0.9988844990730286, 0.9990291595458984, 0.9989379048347473, 0.9990215301513672, 0.9997061491012573, 0.9988498091697693, 0.9988380670547485, 0.9990984201431274, 0.9998399615287781, 0.9987311363220215, 0.9991008639335632, 0.9988881945610046, 0.9989029169082642, 0.998896062374115, 0.9991406798362732, 0.9989573955535889, 0.9991239905357361, 0.9989649653434753, 0.9990933537483215, 0.9988404512405396, 0.9989224076271057, 0.9989132881164551, 0.9992155432701111, 0.9988864660263062, 0.9988856911659241, 0.9990271329879761, 0.9989277124404907, 0.9989696145057678, 0.9988582134246826, 0.9991627335548401, 0.9989029169082642, 0.9990007281303406, 0.998898446559906, 0.9988506436347961, 0.9991649389266968, 0.9990240335464478, 0.9989702105522156, 0.9988911747932434, 0.9988828897476196, 0.9989787340164185, 0.9988989233970642, 0.9989256262779236, 0.9989250302314758, 0.9991881847381592, 0.9988567233085632, 0.9993186593055725]\n",
            "[0.817036509513855, 0.8165741562843323, 0.8162940144538879, 0.816202700138092, 0.816260039806366, 0.8162804245948792, 0.8162837624549866, 0.8164921402931213, 0.8161395192146301, 0.8160421252250671, 0.8160927891731262, 0.8160876035690308, 0.8160287141799927, 0.8161495327949524, 0.8159310817718506, 0.8162915110588074, 0.8163246512413025, 0.8161700963973999, 0.816140353679657, 0.8161680102348328, 0.8160873055458069, 0.8160349130630493, 0.8160332441329956, 0.8164289593696594, 0.8162855505943298, 0.8161700963973999, 0.8163301348686218, 0.8164909482002258, 0.816317617893219, 0.8161030411720276, 0.8159105181694031, 0.8164242506027222, 0.8162009119987488, 0.8160620331764221, 0.8160614967346191, 0.8161560893058777, 0.8160859942436218, 0.8162055015563965, 0.816039502620697, 0.8159218430519104, 0.8160934448242188, 0.8165917992591858, 0.8161623477935791, 0.8160081505775452, 0.8160432577133179, 0.816053032875061, 0.8160677552223206, 0.8163180947303772, 0.8163087964057922, 0.8162012100219727, 0.8160721063613892, 0.8162760138511658, 0.8161079287528992, 0.8161509037017822, 0.8162205219268799, 0.8163478374481201, 0.8161810040473938, 0.816035270690918, 0.8160258531570435, 0.8160305023193359, 0.8162235617637634, 0.8162877559661865, 0.8162825107574463, 0.8161901235580444, 0.8161103129386902, 0.8160532712936401, 0.8161666393280029, 0.8160921931266785, 0.8161813616752625, 0.8161372542381287, 0.8161703944206238, 0.8161622285842896, 0.8160951137542725, 0.8161051273345947, 0.8161473870277405, 0.8160952925682068, 0.8161489963531494, 0.8163522481918335, 0.8162123560905457, 0.8159765601158142, 0.8161422610282898, 0.8161689043045044, 0.8167461156845093, 0.8163537979125977, 0.8163002729415894, 0.8161108493804932, 0.8160951733589172, 0.816070020198822, 0.8160491585731506, 0.8162533044815063, 0.8160535097122192, 0.8159028887748718, 0.8161063194274902, 0.8160817623138428, 0.8160734176635742, 0.8161293268203735, 0.8164964914321899, 0.8163936734199524, 0.8162276744842529, 0.8161205053329468, 0.8160830140113831, 0.8160070180892944, 0.8159877061843872, 0.816312849521637, 0.8160411715507507, 0.816189169883728, 0.816104531288147, 0.8161112070083618, 0.8161565661430359, 0.8162035942077637, 0.8162801861763, 0.8162713646888733, 0.8161742687225342, 0.8160491585731506, 0.8160356283187866, 0.8161914944648743, 0.8162367939949036, 0.8159655928611755, 0.8160362243652344, 0.816061794757843]\n"
          ]
        }
      ]
    },
    {
      "cell_type": "code",
      "metadata": {
        "colab": {
          "base_uri": "https://localhost:8080/"
        },
        "id": "K89Q03tn8pAc",
        "outputId": "2f01e120-8466-46d5-a5be-679c4cbd4a01"
      },
      "source": [
        "loss_and_metrics = model.evaluate(x_test, y_test, batch_size=32)\n",
        "print('## evaluation loss and_metrics ##')\n",
        "print(loss_and_metrics)"
      ],
      "execution_count": 160,
      "outputs": [
        {
          "output_type": "stream",
          "name": "stdout",
          "text": [
            "7/7 [==============================] - 0s 4ms/step - loss: 0.9907 - mae: 0.8224\n",
            "## evaluation loss and_metrics ##\n",
            "[0.990715742111206, 0.8224150538444519]\n"
          ]
        }
      ]
    },
    {
      "cell_type": "code",
      "metadata": {
        "colab": {
          "base_uri": "https://localhost:8080/"
        },
        "id": "_a50w1Cs8vzO",
        "outputId": "3a6788ae-f688-4bce-943d-66156a094051"
      },
      "source": [
        "xhat = x_test[0:1]\n",
        "yhat = model.predict(xhat)\n",
        "print('## yhat ##')\n",
        "print(yhat)\n",
        "print(y_test[0:1])"
      ],
      "execution_count": 161,
      "outputs": [
        {
          "output_type": "stream",
          "name": "stdout",
          "text": [
            "WARNING:tensorflow:6 out of the last 10 calls to <function Model.make_predict_function.<locals>.predict_function at 0x7f9633c9f320> triggered tf.function retracing. Tracing is expensive and the excessive number of tracings could be due to (1) creating @tf.function repeatedly in a loop, (2) passing tensors with different shapes, (3) passing Python objects instead of tensors. For (1), please define your @tf.function outside of the loop. For (2), @tf.function has experimental_relax_shapes=True option that relaxes argument shapes that can avoid unnecessary retracing. For (3), please refer to https://www.tensorflow.org/guide/function#controlling_retracing and https://www.tensorflow.org/api_docs/python/tf/function for  more details.\n",
            "## yhat ##\n",
            "[[0.00450653]]\n",
            "[-0.31594153]\n"
          ]
        }
      ]
    },
    {
      "cell_type": "code",
      "metadata": {
        "id": "icn8oZrf87il"
      },
      "source": [
        ""
      ],
      "execution_count": 161,
      "outputs": []
    }
  ]
}