{
  "nbformat": 4,
  "nbformat_minor": 0,
  "metadata": {
    "colab": {
      "name": "hj.ipynb",
      "provenance": [],
      "collapsed_sections": [],
      "include_colab_link": true
    },
    "kernelspec": {
      "name": "python3",
      "display_name": "Python 3"
    },
    "language_info": {
      "name": "python"
    }
  },
  "cells": [
    {
      "cell_type": "markdown",
      "metadata": {
        "id": "view-in-github",
        "colab_type": "text"
      },
      "source": [
        "<a href=\"https://colab.research.google.com/github/urtbest86/MLOps/blob/master/hj.ipynb\" target=\"_parent\"><img src=\"https://colab.research.google.com/assets/colab-badge.svg\" alt=\"Open In Colab\"/></a>"
      ]
    },
    {
      "cell_type": "markdown",
      "metadata": {
        "id": "XdDQMcwv9x6r"
      },
      "source": [
        "## GitHub에서 데이터셋 가져오기\n",
        "\n"
      ]
    },
    {
      "cell_type": "code",
      "metadata": {
        "id": "QJbY3x4wQE03"
      },
      "source": [
        "import pandas as pd\n",
        "import numpy as np\n",
        "from tensorflow.keras.models import Sequential\n",
        "from tensorflow.keras.layers import Dense"
      ],
      "execution_count": null,
      "outputs": []
    },
    {
      "cell_type": "code",
      "metadata": {
        "id": "WvZubhuiQIwP"
      },
      "source": [
        "from google.colab import files\n",
        "import os\n",
        "DATA_PATH=\"https://raw.githubusercontent.com/urtbest86/MLOps/master/result.csv\"\n"
      ],
      "execution_count": null,
      "outputs": []
    },
    {
      "cell_type": "code",
      "metadata": {
        "id": "zAY4X4A5QI39",
        "colab": {
          "base_uri": "https://localhost:8080/",
          "height": 358
        },
        "outputId": "1661ad7d-1502-4cf7-9923-12c542802a67"
      },
      "source": [
        "df = pd.read_csv(DATA_PATH)\n",
        "df.head()"
      ],
      "execution_count": null,
      "outputs": [
        {
          "output_type": "execute_result",
          "data": {
            "text/html": [
              "<div>\n",
              "<style scoped>\n",
              "    .dataframe tbody tr th:only-of-type {\n",
              "        vertical-align: middle;\n",
              "    }\n",
              "\n",
              "    .dataframe tbody tr th {\n",
              "        vertical-align: top;\n",
              "    }\n",
              "\n",
              "    .dataframe thead th {\n",
              "        text-align: right;\n",
              "    }\n",
              "</style>\n",
              "<table border=\"1\" class=\"dataframe\">\n",
              "  <thead>\n",
              "    <tr style=\"text-align: right;\">\n",
              "      <th></th>\n",
              "      <th>Date</th>\n",
              "      <th>Mean Temperature(°C)</th>\n",
              "      <th>Minimum Temperature(°C)</th>\n",
              "      <th>Maximum Temperature(°C)</th>\n",
              "      <th>Precipitation(mm)</th>\n",
              "      <th>Mean Wind Speed (m/s)</th>\n",
              "      <th>Minimum Relative Humidity(%)</th>\n",
              "      <th>Mean Relative Humidity(%)</th>\n",
              "      <th>Duration of Sunshine(hr)</th>\n",
              "      <th>Mean Surface Temperature(°C)</th>\n",
              "      <th>Minimum Grass Temperature(°C)</th>\n",
              "      <th>Cumulative Precipitation (mm)</th>\n",
              "      <th>Mosquito Value</th>\n",
              "    </tr>\n",
              "  </thead>\n",
              "  <tbody>\n",
              "    <tr>\n",
              "      <th>0</th>\n",
              "      <td>2021-09-27</td>\n",
              "      <td>21.6</td>\n",
              "      <td>18.7</td>\n",
              "      <td>25.0</td>\n",
              "      <td>0.0</td>\n",
              "      <td>2.4</td>\n",
              "      <td>52</td>\n",
              "      <td>66.0</td>\n",
              "      <td>2.2</td>\n",
              "      <td>21.6</td>\n",
              "      <td>16.1</td>\n",
              "      <td>0.0</td>\n",
              "      <td>63.1</td>\n",
              "    </tr>\n",
              "    <tr>\n",
              "      <th>1</th>\n",
              "      <td>2021-09-26</td>\n",
              "      <td>22.6</td>\n",
              "      <td>18.4</td>\n",
              "      <td>27.3</td>\n",
              "      <td>0.0</td>\n",
              "      <td>2.3</td>\n",
              "      <td>50</td>\n",
              "      <td>63.0</td>\n",
              "      <td>8.3</td>\n",
              "      <td>23.9</td>\n",
              "      <td>14.6</td>\n",
              "      <td>0.0</td>\n",
              "      <td>70.2</td>\n",
              "    </tr>\n",
              "    <tr>\n",
              "      <th>2</th>\n",
              "      <td>2021-09-25</td>\n",
              "      <td>21.2</td>\n",
              "      <td>18.7</td>\n",
              "      <td>23.1</td>\n",
              "      <td>0.0</td>\n",
              "      <td>2.3</td>\n",
              "      <td>66</td>\n",
              "      <td>72.6</td>\n",
              "      <td>0.0</td>\n",
              "      <td>21.1</td>\n",
              "      <td>14.3</td>\n",
              "      <td>0.0</td>\n",
              "      <td>70.5</td>\n",
              "    </tr>\n",
              "    <tr>\n",
              "      <th>3</th>\n",
              "      <td>2021-09-24</td>\n",
              "      <td>21.8</td>\n",
              "      <td>16.7</td>\n",
              "      <td>26.9</td>\n",
              "      <td>0.0</td>\n",
              "      <td>2.2</td>\n",
              "      <td>46</td>\n",
              "      <td>67.5</td>\n",
              "      <td>9.9</td>\n",
              "      <td>23.1</td>\n",
              "      <td>12.1</td>\n",
              "      <td>0.0</td>\n",
              "      <td>70.5</td>\n",
              "    </tr>\n",
              "    <tr>\n",
              "      <th>4</th>\n",
              "      <td>2021-09-23</td>\n",
              "      <td>20.9</td>\n",
              "      <td>16.9</td>\n",
              "      <td>25.9</td>\n",
              "      <td>0.0</td>\n",
              "      <td>2.4</td>\n",
              "      <td>48</td>\n",
              "      <td>67.3</td>\n",
              "      <td>8.0</td>\n",
              "      <td>22.7</td>\n",
              "      <td>11.9</td>\n",
              "      <td>0.0</td>\n",
              "      <td>63.1</td>\n",
              "    </tr>\n",
              "  </tbody>\n",
              "</table>\n",
              "</div>"
            ],
            "text/plain": [
              "         Date  ...  Mosquito Value\n",
              "0  2021-09-27  ...            63.1\n",
              "1  2021-09-26  ...            70.2\n",
              "2  2021-09-25  ...            70.5\n",
              "3  2021-09-24  ...            70.5\n",
              "4  2021-09-23  ...            63.1\n",
              "\n",
              "[5 rows x 13 columns]"
            ]
          },
          "metadata": {},
          "execution_count": 3
        }
      ]
    },
    {
      "cell_type": "code",
      "metadata": {
        "id": "QbuCnUhLQI7O"
      },
      "source": [
        "train=df.sample(frac=0.6)\n",
        "test=df.sample(frac=0.2)\n",
        "val=df.sample(frac=0.2)"
      ],
      "execution_count": null,
      "outputs": []
    },
    {
      "cell_type": "code",
      "metadata": {
        "id": "crGyIXEh5dfi"
      },
      "source": [
        "mean = train.mean(axis=0)\n",
        "train -= mean\n",
        "std = train.std(axis=0)\n",
        "train /= std\n",
        "\n",
        "test -= mean\n",
        "test /= std\n",
        "\n",
        "val-=mean\n",
        "val/=std"
      ],
      "execution_count": null,
      "outputs": []
    },
    {
      "cell_type": "code",
      "metadata": {
        "id": "X4ACu2b2QI-O"
      },
      "source": [
        "train_data_set = train.values\n",
        "x_train = train_data_set[:, 2:-1].astype(float)\n",
        "y_train = train_data_set[:, -1].astype(float)"
      ],
      "execution_count": null,
      "outputs": []
    },
    {
      "cell_type": "code",
      "metadata": {
        "id": "chZ5qJ_BRrdB"
      },
      "source": [
        "test_data_set = test.values\n",
        "x_test = test_data_set[:, 2:-1].astype(float)\n",
        "y_test = test_data_set[:, -1].astype(float)"
      ],
      "execution_count": null,
      "outputs": []
    },
    {
      "cell_type": "code",
      "metadata": {
        "id": "DR6Qhie22xuW"
      },
      "source": [
        "val_data_set = val.values\n",
        "x_val = val_data_set[:, 2:-1].astype(float)\n",
        "y_val = val_data_set[:, -1].astype(float)"
      ],
      "execution_count": null,
      "outputs": []
    },
    {
      "cell_type": "code",
      "metadata": {
        "id": "vpnvoSNUQJGX"
      },
      "source": [
        "from tensorflow.keras.models import Sequential\n",
        "from tensorflow.keras.layers import Dense\n",
        "\n",
        "model = Sequential()\n",
        "model.add(Dense(1024, input_dim = 10, activation='relu'))\n",
        "model.add(Dense(500,activation='relu'))\n",
        "model.add(Dense(300,activation='relu'))\n",
        "model.add(Dense(200,activation='relu'))\n",
        "model.add(Dense(1))"
      ],
      "execution_count": null,
      "outputs": []
    },
    {
      "cell_type": "code",
      "metadata": {
        "id": "FccnZKMlYXmt"
      },
      "source": [
        "model.compile(loss='mse', optimizer='adam',metrics=['mae'])"
      ],
      "execution_count": null,
      "outputs": []
    },
    {
      "cell_type": "code",
      "metadata": {
        "colab": {
          "base_uri": "https://localhost:8080/"
        },
        "id": "j0UmXBFEYXyr",
        "outputId": "6ac33ac0-3d43-44f7-c045-56161fab7d70"
      },
      "source": [
        "hist=model.fit(x_train, y_train, epochs=120, batch_size=16,validation_data=(x_val,y_val))"
      ],
      "execution_count": null,
      "outputs": [
        {
          "output_type": "stream",
          "name": "stdout",
          "text": [
            "Epoch 1/120\n",
            "39/39 [==============================] - 1s 14ms/step - loss: 0.7277 - mae: 0.6779 - val_loss: 0.6458 - val_mae: 0.6220\n",
            "Epoch 2/120\n",
            "39/39 [==============================] - 0s 10ms/step - loss: 0.6239 - mae: 0.6297 - val_loss: 0.6717 - val_mae: 0.6263\n",
            "Epoch 3/120\n",
            "39/39 [==============================] - 0s 10ms/step - loss: 0.5920 - mae: 0.6084 - val_loss: 0.5774 - val_mae: 0.5815\n",
            "Epoch 4/120\n",
            "39/39 [==============================] - 0s 9ms/step - loss: 0.5649 - mae: 0.5896 - val_loss: 0.6683 - val_mae: 0.6257\n",
            "Epoch 5/120\n",
            "39/39 [==============================] - 0s 11ms/step - loss: 0.5366 - mae: 0.5717 - val_loss: 0.5745 - val_mae: 0.5756\n",
            "Epoch 6/120\n",
            "39/39 [==============================] - 0s 10ms/step - loss: 0.4974 - mae: 0.5532 - val_loss: 0.6079 - val_mae: 0.5865\n",
            "Epoch 7/120\n",
            "39/39 [==============================] - 0s 9ms/step - loss: 0.4806 - mae: 0.5450 - val_loss: 0.5937 - val_mae: 0.5779\n",
            "Epoch 8/120\n",
            "39/39 [==============================] - 0s 9ms/step - loss: 0.5002 - mae: 0.5437 - val_loss: 0.5498 - val_mae: 0.5729\n",
            "Epoch 9/120\n",
            "39/39 [==============================] - 0s 11ms/step - loss: 0.4571 - mae: 0.5270 - val_loss: 0.5892 - val_mae: 0.5719\n",
            "Epoch 10/120\n",
            "39/39 [==============================] - 0s 10ms/step - loss: 0.4800 - mae: 0.5356 - val_loss: 0.5411 - val_mae: 0.5619\n",
            "Epoch 11/120\n",
            "39/39 [==============================] - 0s 9ms/step - loss: 0.4591 - mae: 0.5330 - val_loss: 0.5973 - val_mae: 0.5668\n",
            "Epoch 12/120\n",
            "39/39 [==============================] - 0s 12ms/step - loss: 0.4458 - mae: 0.5153 - val_loss: 0.5517 - val_mae: 0.5550\n",
            "Epoch 13/120\n",
            "39/39 [==============================] - 0s 9ms/step - loss: 0.4346 - mae: 0.5038 - val_loss: 0.5623 - val_mae: 0.5646\n",
            "Epoch 14/120\n",
            "39/39 [==============================] - 0s 11ms/step - loss: 0.4413 - mae: 0.5192 - val_loss: 0.5621 - val_mae: 0.5622\n",
            "Epoch 15/120\n",
            "39/39 [==============================] - 0s 11ms/step - loss: 0.4545 - mae: 0.5189 - val_loss: 0.5649 - val_mae: 0.5725\n",
            "Epoch 16/120\n",
            "39/39 [==============================] - 0s 11ms/step - loss: 0.4272 - mae: 0.5034 - val_loss: 0.5363 - val_mae: 0.5371\n",
            "Epoch 17/120\n",
            "39/39 [==============================] - 0s 11ms/step - loss: 0.4101 - mae: 0.4920 - val_loss: 0.5239 - val_mae: 0.5325\n",
            "Epoch 18/120\n",
            "39/39 [==============================] - 0s 10ms/step - loss: 0.4140 - mae: 0.4909 - val_loss: 0.5238 - val_mae: 0.5423\n",
            "Epoch 19/120\n",
            "39/39 [==============================] - 0s 10ms/step - loss: 0.3761 - mae: 0.4656 - val_loss: 0.5863 - val_mae: 0.5409\n",
            "Epoch 20/120\n",
            "39/39 [==============================] - 0s 11ms/step - loss: 0.3921 - mae: 0.4740 - val_loss: 0.5408 - val_mae: 0.5307\n",
            "Epoch 21/120\n",
            "39/39 [==============================] - 0s 10ms/step - loss: 0.3641 - mae: 0.4582 - val_loss: 0.5814 - val_mae: 0.5434\n",
            "Epoch 22/120\n",
            "39/39 [==============================] - 0s 10ms/step - loss: 0.3864 - mae: 0.4781 - val_loss: 0.4896 - val_mae: 0.5207\n",
            "Epoch 23/120\n",
            "39/39 [==============================] - 0s 10ms/step - loss: 0.3495 - mae: 0.4480 - val_loss: 0.5831 - val_mae: 0.5318\n",
            "Epoch 24/120\n",
            "39/39 [==============================] - 0s 11ms/step - loss: 0.3826 - mae: 0.4627 - val_loss: 0.5774 - val_mae: 0.5513\n",
            "Epoch 25/120\n",
            "39/39 [==============================] - 0s 11ms/step - loss: 0.3769 - mae: 0.4638 - val_loss: 0.6609 - val_mae: 0.5821\n",
            "Epoch 26/120\n",
            "39/39 [==============================] - 0s 11ms/step - loss: 0.3387 - mae: 0.4498 - val_loss: 0.5335 - val_mae: 0.5186\n",
            "Epoch 27/120\n",
            "39/39 [==============================] - 0s 10ms/step - loss: 0.3425 - mae: 0.4383 - val_loss: 0.5484 - val_mae: 0.5310\n",
            "Epoch 28/120\n",
            "39/39 [==============================] - 0s 10ms/step - loss: 0.3092 - mae: 0.4235 - val_loss: 0.5824 - val_mae: 0.5339\n",
            "Epoch 29/120\n",
            "39/39 [==============================] - 0s 10ms/step - loss: 0.3132 - mae: 0.4259 - val_loss: 0.5445 - val_mae: 0.5028\n",
            "Epoch 30/120\n",
            "39/39 [==============================] - 0s 10ms/step - loss: 0.3110 - mae: 0.4088 - val_loss: 0.5524 - val_mae: 0.4921\n",
            "Epoch 31/120\n",
            "39/39 [==============================] - 0s 10ms/step - loss: 0.2796 - mae: 0.3953 - val_loss: 0.5950 - val_mae: 0.5008\n",
            "Epoch 32/120\n",
            "39/39 [==============================] - 0s 10ms/step - loss: 0.3040 - mae: 0.4079 - val_loss: 0.4702 - val_mae: 0.4788\n",
            "Epoch 33/120\n",
            "39/39 [==============================] - 0s 10ms/step - loss: 0.3031 - mae: 0.4041 - val_loss: 0.5699 - val_mae: 0.5124\n",
            "Epoch 34/120\n",
            "39/39 [==============================] - 0s 10ms/step - loss: 0.2989 - mae: 0.4061 - val_loss: 0.5570 - val_mae: 0.4909\n",
            "Epoch 35/120\n",
            "39/39 [==============================] - 0s 10ms/step - loss: 0.2674 - mae: 0.3841 - val_loss: 0.5673 - val_mae: 0.4979\n",
            "Epoch 36/120\n",
            "39/39 [==============================] - 0s 11ms/step - loss: 0.2605 - mae: 0.3727 - val_loss: 0.5189 - val_mae: 0.4690\n",
            "Epoch 37/120\n",
            "39/39 [==============================] - 0s 10ms/step - loss: 0.2274 - mae: 0.3511 - val_loss: 0.4709 - val_mae: 0.4704\n",
            "Epoch 38/120\n",
            "39/39 [==============================] - 0s 9ms/step - loss: 0.2449 - mae: 0.3591 - val_loss: 0.5377 - val_mae: 0.4692\n",
            "Epoch 39/120\n",
            "39/39 [==============================] - 0s 9ms/step - loss: 0.2375 - mae: 0.3486 - val_loss: 0.5349 - val_mae: 0.5099\n",
            "Epoch 40/120\n",
            "39/39 [==============================] - 0s 10ms/step - loss: 0.2042 - mae: 0.3326 - val_loss: 0.5550 - val_mae: 0.4400\n",
            "Epoch 41/120\n",
            "39/39 [==============================] - 0s 11ms/step - loss: 0.2246 - mae: 0.3343 - val_loss: 0.5433 - val_mae: 0.4921\n",
            "Epoch 42/120\n",
            "39/39 [==============================] - 0s 9ms/step - loss: 0.2023 - mae: 0.3227 - val_loss: 0.5130 - val_mae: 0.4600\n",
            "Epoch 43/120\n",
            "39/39 [==============================] - 0s 9ms/step - loss: 0.2206 - mae: 0.3289 - val_loss: 0.5198 - val_mae: 0.4442\n",
            "Epoch 44/120\n",
            "39/39 [==============================] - 0s 11ms/step - loss: 0.1845 - mae: 0.3000 - val_loss: 0.5384 - val_mae: 0.4629\n",
            "Epoch 45/120\n",
            "39/39 [==============================] - 0s 10ms/step - loss: 0.1953 - mae: 0.3035 - val_loss: 0.4844 - val_mae: 0.4234\n",
            "Epoch 46/120\n",
            "39/39 [==============================] - 0s 10ms/step - loss: 0.1448 - mae: 0.2627 - val_loss: 0.4702 - val_mae: 0.4443\n",
            "Epoch 47/120\n",
            "39/39 [==============================] - 0s 9ms/step - loss: 0.1629 - mae: 0.2840 - val_loss: 0.5787 - val_mae: 0.4359\n",
            "Epoch 48/120\n",
            "39/39 [==============================] - 0s 11ms/step - loss: 0.1557 - mae: 0.2680 - val_loss: 0.4886 - val_mae: 0.4234\n",
            "Epoch 49/120\n",
            "39/39 [==============================] - 0s 10ms/step - loss: 0.1131 - mae: 0.2329 - val_loss: 0.5312 - val_mae: 0.4055\n",
            "Epoch 50/120\n",
            "39/39 [==============================] - 0s 11ms/step - loss: 0.1089 - mae: 0.2248 - val_loss: 0.5424 - val_mae: 0.4158\n",
            "Epoch 51/120\n",
            "39/39 [==============================] - 0s 11ms/step - loss: 0.1065 - mae: 0.2255 - val_loss: 0.5257 - val_mae: 0.4041\n",
            "Epoch 52/120\n",
            "39/39 [==============================] - 0s 11ms/step - loss: 0.1211 - mae: 0.2327 - val_loss: 0.5182 - val_mae: 0.4006\n",
            "Epoch 53/120\n",
            "39/39 [==============================] - 0s 11ms/step - loss: 0.1052 - mae: 0.2239 - val_loss: 0.5084 - val_mae: 0.4074\n",
            "Epoch 54/120\n",
            "39/39 [==============================] - 0s 10ms/step - loss: 0.1038 - mae: 0.2125 - val_loss: 0.5049 - val_mae: 0.4118\n",
            "Epoch 55/120\n",
            "39/39 [==============================] - 0s 11ms/step - loss: 0.0981 - mae: 0.2056 - val_loss: 0.5104 - val_mae: 0.4091\n",
            "Epoch 56/120\n",
            "39/39 [==============================] - 0s 11ms/step - loss: 0.1491 - mae: 0.2351 - val_loss: 0.4524 - val_mae: 0.4187\n",
            "Epoch 57/120\n",
            "39/39 [==============================] - 0s 11ms/step - loss: 0.0913 - mae: 0.2054 - val_loss: 0.4459 - val_mae: 0.3926\n",
            "Epoch 58/120\n",
            "39/39 [==============================] - 0s 10ms/step - loss: 0.1066 - mae: 0.2022 - val_loss: 0.5115 - val_mae: 0.3801\n",
            "Epoch 59/120\n",
            "39/39 [==============================] - 0s 10ms/step - loss: 0.1033 - mae: 0.2059 - val_loss: 0.5271 - val_mae: 0.4049\n",
            "Epoch 60/120\n",
            "39/39 [==============================] - 0s 11ms/step - loss: 0.1138 - mae: 0.2192 - val_loss: 0.4616 - val_mae: 0.3852\n",
            "Epoch 61/120\n",
            "39/39 [==============================] - 0s 10ms/step - loss: 0.1377 - mae: 0.2528 - val_loss: 0.4756 - val_mae: 0.4045\n",
            "Epoch 62/120\n",
            "39/39 [==============================] - 0s 10ms/step - loss: 0.0814 - mae: 0.1985 - val_loss: 0.5599 - val_mae: 0.4288\n",
            "Epoch 63/120\n",
            "39/39 [==============================] - 0s 11ms/step - loss: 0.0664 - mae: 0.1777 - val_loss: 0.5138 - val_mae: 0.3807\n",
            "Epoch 64/120\n",
            "39/39 [==============================] - 0s 10ms/step - loss: 0.0578 - mae: 0.1576 - val_loss: 0.5088 - val_mae: 0.3750\n",
            "Epoch 65/120\n",
            "39/39 [==============================] - 0s 10ms/step - loss: 0.0473 - mae: 0.1446 - val_loss: 0.5086 - val_mae: 0.3792\n",
            "Epoch 66/120\n",
            "39/39 [==============================] - 0s 10ms/step - loss: 0.0443 - mae: 0.1445 - val_loss: 0.4797 - val_mae: 0.3679\n",
            "Epoch 67/120\n",
            "39/39 [==============================] - 0s 11ms/step - loss: 0.0416 - mae: 0.1443 - val_loss: 0.5055 - val_mae: 0.3666\n",
            "Epoch 68/120\n",
            "39/39 [==============================] - 0s 9ms/step - loss: 0.0293 - mae: 0.1212 - val_loss: 0.4724 - val_mae: 0.3548\n",
            "Epoch 69/120\n",
            "39/39 [==============================] - 0s 10ms/step - loss: 0.0272 - mae: 0.1089 - val_loss: 0.5223 - val_mae: 0.3802\n",
            "Epoch 70/120\n",
            "39/39 [==============================] - 0s 11ms/step - loss: 0.0280 - mae: 0.1150 - val_loss: 0.5026 - val_mae: 0.3806\n",
            "Epoch 71/120\n",
            "39/39 [==============================] - 0s 11ms/step - loss: 0.0307 - mae: 0.1193 - val_loss: 0.5239 - val_mae: 0.3682\n",
            "Epoch 72/120\n",
            "39/39 [==============================] - 0s 10ms/step - loss: 0.0325 - mae: 0.1249 - val_loss: 0.5057 - val_mae: 0.3616\n",
            "Epoch 73/120\n",
            "39/39 [==============================] - 0s 10ms/step - loss: 0.0295 - mae: 0.1148 - val_loss: 0.4572 - val_mae: 0.3523\n",
            "Epoch 74/120\n",
            "39/39 [==============================] - 0s 10ms/step - loss: 0.0197 - mae: 0.0965 - val_loss: 0.4785 - val_mae: 0.3613\n",
            "Epoch 75/120\n",
            "39/39 [==============================] - 0s 10ms/step - loss: 0.0178 - mae: 0.0920 - val_loss: 0.4907 - val_mae: 0.3463\n",
            "Epoch 76/120\n",
            "39/39 [==============================] - 0s 9ms/step - loss: 0.0129 - mae: 0.0752 - val_loss: 0.4922 - val_mae: 0.3440\n",
            "Epoch 77/120\n",
            "39/39 [==============================] - 0s 10ms/step - loss: 0.0116 - mae: 0.0677 - val_loss: 0.4976 - val_mae: 0.3545\n",
            "Epoch 78/120\n",
            "39/39 [==============================] - 0s 11ms/step - loss: 0.0108 - mae: 0.0696 - val_loss: 0.4749 - val_mae: 0.3425\n",
            "Epoch 79/120\n",
            "39/39 [==============================] - 0s 10ms/step - loss: 0.0134 - mae: 0.0802 - val_loss: 0.4657 - val_mae: 0.3455\n",
            "Epoch 80/120\n",
            "39/39 [==============================] - 0s 9ms/step - loss: 0.0118 - mae: 0.0739 - val_loss: 0.4582 - val_mae: 0.3366\n",
            "Epoch 81/120\n",
            "39/39 [==============================] - 0s 10ms/step - loss: 0.0125 - mae: 0.0756 - val_loss: 0.4597 - val_mae: 0.3433\n",
            "Epoch 82/120\n",
            "39/39 [==============================] - 0s 11ms/step - loss: 0.0153 - mae: 0.0815 - val_loss: 0.4736 - val_mae: 0.3544\n",
            "Epoch 83/120\n",
            "39/39 [==============================] - 0s 10ms/step - loss: 0.0157 - mae: 0.0858 - val_loss: 0.4838 - val_mae: 0.3473\n",
            "Epoch 84/120\n",
            "39/39 [==============================] - 0s 11ms/step - loss: 0.0162 - mae: 0.0914 - val_loss: 0.4991 - val_mae: 0.3874\n",
            "Epoch 85/120\n",
            "39/39 [==============================] - 0s 10ms/step - loss: 0.0195 - mae: 0.0965 - val_loss: 0.4799 - val_mae: 0.3512\n",
            "Epoch 86/120\n",
            "39/39 [==============================] - 0s 11ms/step - loss: 0.0189 - mae: 0.0922 - val_loss: 0.4822 - val_mae: 0.3654\n",
            "Epoch 87/120\n",
            "39/39 [==============================] - 0s 10ms/step - loss: 0.0215 - mae: 0.0996 - val_loss: 0.5036 - val_mae: 0.3634\n",
            "Epoch 88/120\n",
            "39/39 [==============================] - 0s 10ms/step - loss: 0.0175 - mae: 0.0954 - val_loss: 0.4870 - val_mae: 0.3568\n",
            "Epoch 89/120\n",
            "39/39 [==============================] - 0s 10ms/step - loss: 0.0191 - mae: 0.0992 - val_loss: 0.4865 - val_mae: 0.3688\n",
            "Epoch 90/120\n",
            "39/39 [==============================] - 0s 10ms/step - loss: 0.0151 - mae: 0.0884 - val_loss: 0.4535 - val_mae: 0.3470\n",
            "Epoch 91/120\n",
            "39/39 [==============================] - 0s 10ms/step - loss: 0.0148 - mae: 0.0861 - val_loss: 0.4500 - val_mae: 0.3524\n",
            "Epoch 92/120\n",
            "39/39 [==============================] - 0s 10ms/step - loss: 0.0156 - mae: 0.0886 - val_loss: 0.4759 - val_mae: 0.3526\n",
            "Epoch 93/120\n",
            "39/39 [==============================] - 0s 10ms/step - loss: 0.0147 - mae: 0.0885 - val_loss: 0.5184 - val_mae: 0.3678\n",
            "Epoch 94/120\n",
            "39/39 [==============================] - 0s 11ms/step - loss: 0.0143 - mae: 0.0854 - val_loss: 0.4927 - val_mae: 0.3646\n",
            "Epoch 95/120\n",
            "39/39 [==============================] - 0s 10ms/step - loss: 0.0141 - mae: 0.0825 - val_loss: 0.4396 - val_mae: 0.3370\n",
            "Epoch 96/120\n",
            "39/39 [==============================] - 0s 10ms/step - loss: 0.0153 - mae: 0.0877 - val_loss: 0.4677 - val_mae: 0.3577\n",
            "Epoch 97/120\n",
            "39/39 [==============================] - 0s 10ms/step - loss: 0.0164 - mae: 0.0901 - val_loss: 0.4940 - val_mae: 0.3569\n",
            "Epoch 98/120\n",
            "39/39 [==============================] - 0s 10ms/step - loss: 0.0269 - mae: 0.1165 - val_loss: 0.4655 - val_mae: 0.3676\n",
            "Epoch 99/120\n",
            "39/39 [==============================] - 0s 11ms/step - loss: 0.0256 - mae: 0.1125 - val_loss: 0.4826 - val_mae: 0.3841\n",
            "Epoch 100/120\n",
            "39/39 [==============================] - 0s 11ms/step - loss: 0.1534 - mae: 0.2357 - val_loss: 0.5159 - val_mae: 0.4260\n",
            "Epoch 101/120\n",
            "39/39 [==============================] - 0s 10ms/step - loss: 0.2115 - mae: 0.2930 - val_loss: 0.5621 - val_mae: 0.4491\n",
            "Epoch 102/120\n",
            "39/39 [==============================] - 0s 11ms/step - loss: 0.1936 - mae: 0.3103 - val_loss: 0.5990 - val_mae: 0.4456\n",
            "Epoch 103/120\n",
            "39/39 [==============================] - 0s 11ms/step - loss: 0.2338 - mae: 0.3273 - val_loss: 0.5531 - val_mae: 0.4978\n",
            "Epoch 104/120\n",
            "39/39 [==============================] - 0s 11ms/step - loss: 0.1990 - mae: 0.3040 - val_loss: 0.7061 - val_mae: 0.4957\n",
            "Epoch 105/120\n",
            "39/39 [==============================] - 0s 11ms/step - loss: 0.1899 - mae: 0.3064 - val_loss: 0.5090 - val_mae: 0.4248\n",
            "Epoch 106/120\n",
            "39/39 [==============================] - 0s 10ms/step - loss: 0.1210 - mae: 0.2285 - val_loss: 0.5096 - val_mae: 0.4143\n",
            "Epoch 107/120\n",
            "39/39 [==============================] - 0s 10ms/step - loss: 0.1304 - mae: 0.2272 - val_loss: 0.5794 - val_mae: 0.4290\n",
            "Epoch 108/120\n",
            "39/39 [==============================] - 0s 11ms/step - loss: 0.0766 - mae: 0.1838 - val_loss: 0.4836 - val_mae: 0.3872\n",
            "Epoch 109/120\n",
            "39/39 [==============================] - 0s 10ms/step - loss: 0.0541 - mae: 0.1496 - val_loss: 0.4859 - val_mae: 0.3715\n",
            "Epoch 110/120\n",
            "39/39 [==============================] - 0s 10ms/step - loss: 0.0369 - mae: 0.1285 - val_loss: 0.5053 - val_mae: 0.3793\n",
            "Epoch 111/120\n",
            "39/39 [==============================] - 0s 11ms/step - loss: 0.0500 - mae: 0.1197 - val_loss: 0.4692 - val_mae: 0.3554\n",
            "Epoch 112/120\n",
            "39/39 [==============================] - 0s 10ms/step - loss: 0.0478 - mae: 0.1148 - val_loss: 0.4623 - val_mae: 0.3576\n",
            "Epoch 113/120\n",
            "39/39 [==============================] - 0s 11ms/step - loss: 0.0398 - mae: 0.0995 - val_loss: 0.4581 - val_mae: 0.3503\n",
            "Epoch 114/120\n",
            "39/39 [==============================] - 0s 11ms/step - loss: 0.0255 - mae: 0.0822 - val_loss: 0.4645 - val_mae: 0.3440\n",
            "Epoch 115/120\n",
            "39/39 [==============================] - 0s 10ms/step - loss: 0.0469 - mae: 0.1097 - val_loss: 0.4879 - val_mae: 0.3585\n",
            "Epoch 116/120\n",
            "39/39 [==============================] - 0s 11ms/step - loss: 0.0500 - mae: 0.1185 - val_loss: 0.4986 - val_mae: 0.3743\n",
            "Epoch 117/120\n",
            "39/39 [==============================] - 0s 10ms/step - loss: 0.0448 - mae: 0.1365 - val_loss: 0.4847 - val_mae: 0.3670\n",
            "Epoch 118/120\n",
            "39/39 [==============================] - 0s 11ms/step - loss: 0.0207 - mae: 0.0993 - val_loss: 0.5250 - val_mae: 0.3678\n",
            "Epoch 119/120\n",
            "39/39 [==============================] - 0s 10ms/step - loss: 0.0141 - mae: 0.0801 - val_loss: 0.4755 - val_mae: 0.3367\n",
            "Epoch 120/120\n",
            "39/39 [==============================] - 0s 10ms/step - loss: 0.0083 - mae: 0.0619 - val_loss: 0.4807 - val_mae: 0.3429\n"
          ]
        }
      ]
    },
    {
      "cell_type": "code",
      "metadata": {
        "colab": {
          "base_uri": "https://localhost:8080/"
        },
        "id": "LkSsa9e79PnD",
        "outputId": "c5d2f75d-9c27-4efa-ab53-160f83d52d1c"
      },
      "source": [
        "hist.history.keys()"
      ],
      "execution_count": null,
      "outputs": [
        {
          "output_type": "execute_result",
          "data": {
            "text/plain": [
              "dict_keys(['loss', 'mae', 'val_loss', 'val_mae'])"
            ]
          },
          "metadata": {},
          "execution_count": 12
        }
      ]
    },
    {
      "cell_type": "code",
      "metadata": {
        "colab": {
          "base_uri": "https://localhost:8080/",
          "height": 134
        },
        "id": "j5z2xWRArxKb",
        "outputId": "6143a435-22c6-4535-95fb-6c789e4252bf"
      },
      "source": [
        "import matplotlib.pyplot as plt\n",
        "\n",
        "y_mae = hist.history['mae']\n",
        "y_mse = hist.history['loss']#x_len = np.arange(len(y_loss)) \n",
        "\n",
        "x_len = np.arange(120)\n",
        "plt.plot(x_len, %(y_mae,std), marker='.', c='red', label=\"mae\")\n",
        "plt.plot(x_len, y_mse, marker='.', c='blue', label=\"mse\")\n",
        "\n",
        "# plt.plot(x_len, hist.history['val_loss'], marker='.', c='green', label=\"val_mse\")\n",
        "# plt.plot(x_len, hist.history['val_mae'], marker='.', c='black', label=\"val_mae\")\n",
        "\n",
        "plt.legend(loc='upper right')\n",
        "plt.grid()\n",
        "plt.xlabel('mae')\n",
        "plt.ylabel('mse')\n",
        "plt.show()"
      ],
      "execution_count": null,
      "outputs": [
        {
          "output_type": "error",
          "ename": "SyntaxError",
          "evalue": "ignored",
          "traceback": [
            "\u001b[0;36m  File \u001b[0;32m\"<ipython-input-18-38de42656cf0>\"\u001b[0;36m, line \u001b[0;32m7\u001b[0m\n\u001b[0;31m    plt.plot(x_len, %(y_mae,std), marker='.', c='red', label=\"mae\")\u001b[0m\n\u001b[0m                    ^\u001b[0m\n\u001b[0;31mSyntaxError\u001b[0m\u001b[0;31m:\u001b[0m invalid syntax\n"
          ]
        }
      ]
    },
    {
      "cell_type": "code",
      "metadata": {
        "colab": {
          "base_uri": "https://localhost:8080/"
        },
        "id": "Ht60MsA28k0B",
        "outputId": "a448b304-8db5-4730-909a-7b6ae7d378ec"
      },
      "source": [
        "print('## training loss and acc ##')\n",
        "print(hist.history['loss'])\n",
        "print(hist.history['mae'])"
      ],
      "execution_count": null,
      "outputs": [
        {
          "output_type": "stream",
          "name": "stdout",
          "text": [
            "## training loss and acc ##\n",
            "[0.7027474641799927, 0.6031959652900696, 0.594721794128418, 0.5547035932540894, 0.5665457844734192, 0.5382364392280579, 0.5429749488830566, 0.5333656668663025, 0.5028649568557739, 0.4842444956302643, 0.49591565132141113, 0.4851948916912079, 0.5042318105697632, 0.4556419253349304, 0.4515148401260376, 0.4611662030220032, 0.44474712014198303, 0.41785845160484314, 0.40688833594322205, 0.4050419330596924, 0.38543176651000977, 0.4075498580932617, 0.388693630695343, 0.41144275665283203, 0.3673005998134613, 0.3603813350200653, 0.3673885762691498, 0.3417256772518158, 0.31293922662734985, 0.3077707588672638, 0.3087180256843567, 0.29371407628059387, 0.2776827812194824, 0.27187949419021606, 0.25926417112350464, 0.24722690880298615, 0.2723648250102997, 0.2655021846294403, 0.22600525617599487, 0.24879705905914307, 0.2224772423505783, 0.23156403005123138, 0.18151427805423737, 0.15746121108531952, 0.1514558494091034, 0.18172699213027954, 0.16515201330184937, 0.15429849922657013, 0.12737534940242767, 0.1318819373846054, 0.11248262971639633, 0.09516299515962601, 0.12411067634820938, 0.1495681256055832, 0.0955219566822052, 0.08466153591871262, 0.1234402060508728, 0.11122144013643265, 0.10472635179758072, 0.08058255910873413, 0.08883242309093475, 0.07594867795705795, 0.06418555974960327, 0.04882359504699707, 0.05722349137067795, 0.06156805902719498, 0.0540810190141201, 0.05754780024290085, 0.042548537254333496, 0.0591781809926033, 0.06018183007836342, 0.03802138939499855, 0.043342474848032, 0.036774151027202606, 0.039723221212625504, 0.03839442878961563, 0.025619391351938248, 0.017672577872872353, 0.013861682265996933, 0.009623115882277489, 0.008141694590449333, 0.00635839719325304, 0.006840067449957132, 0.005779441446065903, 0.0076641202904284, 0.006246164441108704, 0.004161027725785971, 0.0035055484622716904, 0.003276475705206394, 0.002574192127212882, 0.002423466881737113, 0.0021188200917094946, 0.001666033174842596, 0.0016027444507926702, 0.0014315752778202295, 0.0017224302282556891, 0.0019626484718173742, 0.0019865387585014105, 0.0024036087561398745, 0.002282603643834591, 0.0024650467094033957, 0.0027992406394332647, 0.003973045852035284, 0.003748847870156169, 0.0029770333785563707, 0.0025437676813453436, 0.0027755568735301495, 0.002540960907936096, 0.002784528536722064, 0.0026678622234612703, 0.002744463039562106, 0.002564055612310767, 0.003770439885556698, 0.004324381705373526, 0.0058633009903132915, 0.00776164373382926, 0.012250171974301338, 0.014757147058844566, 0.026058390736579895, 0.03544341027736664]\n",
            "[0.6706517934799194, 0.6176864504814148, 0.6015276312828064, 0.5841336250305176, 0.5933934450149536, 0.5726227164268494, 0.5775192975997925, 0.5649173259735107, 0.5557193160057068, 0.5384926199913025, 0.5441271066665649, 0.5350244045257568, 0.5476054549217224, 0.5190430283546448, 0.5064460635185242, 0.5208960771560669, 0.5121786594390869, 0.49224796891212463, 0.4853997230529785, 0.4789959788322449, 0.46566322445869446, 0.4785141944885254, 0.471283882856369, 0.49190187454223633, 0.4608009457588196, 0.458791047334671, 0.4511391520500183, 0.42775988578796387, 0.41096699237823486, 0.40863874554634094, 0.40323036909103394, 0.4000037610530853, 0.38533681631088257, 0.382060706615448, 0.3690682649612427, 0.36342012882232666, 0.3748985230922699, 0.3650777339935303, 0.34237104654312134, 0.36021071672439575, 0.33842724561691284, 0.3393478989601135, 0.30690839886665344, 0.28195470571517944, 0.2719675898551941, 0.29161885380744934, 0.28047090768814087, 0.27440568804740906, 0.2502639591693878, 0.24660266935825348, 0.22698462009429932, 0.21765413880348206, 0.2317013293504715, 0.2558808922767639, 0.21945853531360626, 0.20465630292892456, 0.2287045419216156, 0.2320268601179123, 0.21384656429290771, 0.18755310773849487, 0.19237682223320007, 0.1838172823190689, 0.16836415231227875, 0.15687626600265503, 0.15927517414093018, 0.16863133013248444, 0.16017644107341766, 0.1536792367696762, 0.13777723908424377, 0.14050880074501038, 0.14925213158130646, 0.13029545545578003, 0.1350712776184082, 0.1312873512506485, 0.12330582737922668, 0.12562939524650574, 0.10866917669773102, 0.09625253081321716, 0.08404737710952759, 0.07091640681028366, 0.062366265803575516, 0.05662056803703308, 0.05862469971179962, 0.05570655316114426, 0.06407297402620316, 0.05644920468330383, 0.04663044586777687, 0.04208596795797348, 0.04146154969930649, 0.03738545998930931, 0.03657354414463043, 0.03230612352490425, 0.028470396995544434, 0.02743314765393734, 0.02673691138625145, 0.029660679399967194, 0.03164557367563248, 0.03122936561703682, 0.03344419598579407, 0.03500450402498245, 0.03647410869598389, 0.03865531459450722, 0.04374762997031212, 0.04514139145612717, 0.040609534829854965, 0.038222841918468475, 0.03944031521677971, 0.03776732459664345, 0.037751004099845886, 0.03844078630208969, 0.03868026286363602, 0.03773258998990059, 0.045154016464948654, 0.04880919307470322, 0.05245554819703102, 0.06322167813777924, 0.08146771043539047, 0.0903770923614502, 0.10336702316999435, 0.12738557159900665]\n"
          ]
        }
      ]
    },
    {
      "cell_type": "code",
      "metadata": {
        "colab": {
          "base_uri": "https://localhost:8080/"
        },
        "id": "K89Q03tn8pAc",
        "outputId": "93a71bc9-c720-4e20-b73d-b86fa131b9f6"
      },
      "source": [
        "loss_and_metrics = model.evaluate(x_test, y_test, batch_size=32)\n",
        "print('## evaluation loss and_metrics ##')\n",
        "print(loss_and_metrics)"
      ],
      "execution_count": null,
      "outputs": [
        {
          "output_type": "stream",
          "name": "stdout",
          "text": [
            "7/7 [==============================] - 0s 4ms/step - loss: 0.1646 - mae: 0.2357\n",
            "## evaluation loss and_metrics ##\n",
            "[0.16464664041996002, 0.2357158660888672]\n"
          ]
        }
      ]
    },
    {
      "cell_type": "code",
      "metadata": {
        "colab": {
          "base_uri": "https://localhost:8080/"
        },
        "id": "_a50w1Cs8vzO",
        "outputId": "a75354b9-7b72-48c4-cb82-5d1f81614799"
      },
      "source": [
        "xhat = x_test[0:1]\n",
        "yhat = model.predict(xhat)\n",
        "print('## yhat ##')\n",
        "print(yhat)\n",
        "print(y_test[0:1])"
      ],
      "execution_count": null,
      "outputs": [
        {
          "output_type": "stream",
          "name": "stdout",
          "text": [
            "## yhat ##\n",
            "[[-0.3831579]]\n",
            "[-0.46985209]\n"
          ]
        }
      ]
    },
    {
      "cell_type": "code",
      "metadata": {
        "id": "TFiXAL2dfw34",
        "colab": {
          "base_uri": "https://localhost:8080/"
        },
        "outputId": "166b9f5b-561d-4ec2-da4d-9334d28a3261"
      },
      "source": [
        "xhat = x_test\n",
        "yhat = model.predict(xhat)\n",
        "\n",
        "print(\"======predict======\")\n",
        "print(yhat)\n",
        "\n",
        "\n",
        "print(\"======real======\")\n",
        "print(y_test)"
      ],
      "execution_count": null,
      "outputs": [
        {
          "output_type": "stream",
          "name": "stdout",
          "text": [
            "======predict======\n",
            "[[-0.20364857]\n",
            " [-1.1066532 ]\n",
            " [-0.92899865]\n",
            " [ 1.2853472 ]\n",
            " [ 0.9778601 ]\n",
            " [ 0.14850861]\n",
            " [ 0.6318071 ]\n",
            " [ 0.37854317]\n",
            " [ 0.02605275]\n",
            " [ 0.31012887]\n",
            " [ 0.01330442]\n",
            " [ 0.08203363]\n",
            " [ 0.19639228]\n",
            " [ 1.1124109 ]\n",
            " [ 0.31827465]\n",
            " [ 1.3356363 ]\n",
            " [ 0.4616001 ]\n",
            " [-1.3535703 ]\n",
            " [-0.01089663]\n",
            " [-1.1628337 ]\n",
            " [-0.38725635]\n",
            " [-0.04531218]\n",
            " [-0.40323865]\n",
            " [ 1.1751608 ]\n",
            " [ 0.90138376]\n",
            " [-0.27490547]\n",
            " [-1.2814542 ]\n",
            " [-0.97751695]\n",
            " [ 1.8200204 ]\n",
            " [-0.9025427 ]\n",
            " [-0.72007406]\n",
            " [ 1.0286787 ]\n",
            " [ 0.7061021 ]\n",
            " [ 0.09419003]\n",
            " [-0.20437743]\n",
            " [ 0.12103799]\n",
            " [ 0.08730079]\n",
            " [ 1.2686868 ]\n",
            " [ 1.360057  ]\n",
            " [-0.507181  ]\n",
            " [ 1.1494476 ]\n",
            " [-0.08830515]\n",
            " [-0.21882051]\n",
            " [ 0.05210418]\n",
            " [-1.4286168 ]\n",
            " [-1.0621853 ]\n",
            " [ 1.0477061 ]\n",
            " [ 0.6688196 ]\n",
            " [-0.9501227 ]\n",
            " [ 1.7246064 ]\n",
            " [ 1.1124276 ]\n",
            " [-1.2993569 ]\n",
            " [ 1.8421438 ]\n",
            " [-0.80433095]\n",
            " [ 1.4998688 ]\n",
            " [ 0.8998424 ]\n",
            " [ 1.2414136 ]\n",
            " [ 0.750154  ]\n",
            " [ 0.04270625]\n",
            " [-0.32313678]\n",
            " [ 0.64919955]\n",
            " [-1.3435243 ]\n",
            " [ 1.0542338 ]\n",
            " [-0.24471381]\n",
            " [ 0.28123468]\n",
            " [-0.16593462]\n",
            " [ 1.0081097 ]\n",
            " [-1.0705556 ]\n",
            " [-1.2854692 ]\n",
            " [ 0.33218923]\n",
            " [-0.8606917 ]\n",
            " [-0.1524487 ]\n",
            " [ 0.27816835]\n",
            " [ 0.34629652]\n",
            " [-0.8327971 ]\n",
            " [ 1.1035963 ]\n",
            " [-0.7267321 ]\n",
            " [ 0.22845784]\n",
            " [-1.2316762 ]\n",
            " [-0.64017916]\n",
            " [ 0.5175336 ]\n",
            " [-1.5358756 ]\n",
            " [-2.1216736 ]\n",
            " [-1.805693  ]\n",
            " [-1.2274965 ]\n",
            " [ 0.44721407]\n",
            " [-0.66715   ]\n",
            " [ 0.8582625 ]\n",
            " [ 0.5365461 ]\n",
            " [-1.4572223 ]\n",
            " [ 0.28405815]\n",
            " [-1.5388438 ]\n",
            " [ 1.5693201 ]\n",
            " [-0.2020022 ]\n",
            " [ 0.44754335]\n",
            " [-0.9217747 ]\n",
            " [ 0.07231724]\n",
            " [-0.10355008]\n",
            " [-0.75675493]\n",
            " [ 0.8858354 ]\n",
            " [ 1.7559932 ]\n",
            " [-1.5044509 ]\n",
            " [ 0.8967725 ]\n",
            " [ 0.5229058 ]\n",
            " [ 0.5491872 ]\n",
            " [ 0.5221554 ]\n",
            " [ 1.3369528 ]\n",
            " [ 0.00973051]\n",
            " [ 0.43189397]\n",
            " [-0.62382364]\n",
            " [-0.06419139]\n",
            " [-0.3933495 ]\n",
            " [-1.9620682 ]\n",
            " [-1.2830423 ]\n",
            " [-0.35480282]\n",
            " [ 0.02159036]\n",
            " [ 0.19541131]\n",
            " [-0.48083454]\n",
            " [-1.4089905 ]\n",
            " [ 0.6164204 ]\n",
            " [-0.50436   ]\n",
            " [ 0.19335845]\n",
            " [-0.42908803]\n",
            " [-0.11990972]\n",
            " [ 0.7003734 ]\n",
            " [ 0.5969126 ]\n",
            " [ 1.2725781 ]\n",
            " [-1.3784661 ]\n",
            " [ 1.7802273 ]\n",
            " [ 0.40643314]\n",
            " [-0.67115486]\n",
            " [ 1.0956854 ]\n",
            " [ 0.5148903 ]\n",
            " [-1.397277  ]\n",
            " [-1.121423  ]\n",
            " [ 1.4477443 ]\n",
            " [-0.05586817]\n",
            " [-1.0861379 ]\n",
            " [ 0.03920602]\n",
            " [ 0.09780926]\n",
            " [ 1.8428637 ]\n",
            " [-0.08788109]\n",
            " [ 0.5979167 ]\n",
            " [ 0.5077981 ]\n",
            " [-1.0196897 ]\n",
            " [ 0.1784406 ]\n",
            " [ 0.1506604 ]\n",
            " [-0.2849268 ]\n",
            " [ 0.19547853]\n",
            " [-1.2081679 ]\n",
            " [ 0.37877628]\n",
            " [ 0.5572894 ]\n",
            " [ 0.35149533]\n",
            " [ 0.6326844 ]\n",
            " [-0.02946653]\n",
            " [-1.5543574 ]\n",
            " [ 0.2677528 ]\n",
            " [ 0.8169073 ]\n",
            " [-1.0335025 ]\n",
            " [ 0.23778579]\n",
            " [-1.4665103 ]\n",
            " [ 1.8443375 ]\n",
            " [-1.429931  ]\n",
            " [ 0.20284171]\n",
            " [-0.869854  ]\n",
            " [-0.9360672 ]\n",
            " [-0.02224365]\n",
            " [-0.2753758 ]\n",
            " [ 1.3487047 ]\n",
            " [ 0.09667268]\n",
            " [-1.1997476 ]\n",
            " [ 0.09002049]\n",
            " [ 0.03268186]\n",
            " [ 0.62124527]\n",
            " [ 0.72978216]\n",
            " [ 0.7906138 ]\n",
            " [-1.1989034 ]\n",
            " [-0.20663162]\n",
            " [-0.4333186 ]\n",
            " [ 0.06067469]\n",
            " [ 0.7532284 ]\n",
            " [-0.1126112 ]\n",
            " [-0.04198372]\n",
            " [-0.6691863 ]\n",
            " [ 1.0557916 ]\n",
            " [ 0.026852  ]\n",
            " [ 1.5599557 ]\n",
            " [-1.4837108 ]\n",
            " [-0.20143546]\n",
            " [ 0.7483075 ]\n",
            " [ 1.1222668 ]\n",
            " [-0.5053819 ]\n",
            " [-0.9034062 ]\n",
            " [ 0.8420213 ]\n",
            " [ 0.58457005]\n",
            " [ 0.6112392 ]\n",
            " [-0.38788337]\n",
            " [-0.912275  ]\n",
            " [ 1.9716877 ]\n",
            " [-0.239398  ]\n",
            " [ 0.15075845]\n",
            " [-1.168018  ]\n",
            " [-0.4371953 ]\n",
            " [ 0.28689346]\n",
            " [-1.459653  ]\n",
            " [ 0.04029338]\n",
            " [ 0.92800266]\n",
            " [-1.1168841 ]]\n",
            "======real======\n",
            "[-0.25068066 -1.1958316  -0.22453024  1.2772511   0.99333224  0.17519763\n",
            "  0.60107592 -0.48977023  0.04070975  0.26485622 -0.03026997 -1.87947833\n",
            "  1.49019024  1.1016697   0.3694579   1.35196659  0.43670184 -1.03892908\n",
            "  0.7206207  -0.24320911 -0.26562376 -0.04894884 -0.32539615  1.26604378\n",
            "  0.67579141  1.02695421 -0.88202655 -1.71136848  1.8039953  -0.96794936\n",
            " -0.90444119  1.00453956  1.32955194  1.22495026 -0.20211559  0.06686017\n",
            "  0.82148661 -1.6067668   1.54249109 -0.54954262  1.1166128  -0.35154657\n",
            " -0.26935953  0.08927482 -1.44239272 -1.90936453  1.09046238  0.68699873\n",
            " -0.98662823  1.82640995  1.17264941 -1.5619375   1.82640995 -1.62170989\n",
            "  1.54249109  0.93729562  1.22868603  0.79160042 -0.17596517 -0.08257081\n",
            "  0.53756775 -1.42744962  0.80654352 -0.67282318 -0.67282318 -0.17596517\n",
            "  0.72435648 -0.17596517 -1.2406609   0.2237627  -0.874555    0.05191707\n",
            "  0.89993788 -0.3627539  -0.81104683  0.76171422 -0.19464404 -1.42744962\n",
            " -1.20703893 -0.58690036  0.48153114 -1.08002259  1.82640995 -1.7674051\n",
            " -0.62425811 -1.7225758   0.10421791  0.91488097  0.78786464 -1.67027496\n",
            "  0.27606354  0.75797845  1.61720658  0.06686017  0.47405959 -0.95300626\n",
            "  0.0481813   0.13036834 -1.26307554  0.83642971  1.82640995 -1.47601469\n",
            "  0.9260883   0.42175874  0.86631591 -0.53086375  1.34075926  1.82640995\n",
            " -0.20585137 -0.61305079 -0.09377813 -0.37769699 -1.90936453 -1.1958316\n",
            " -0.38890432 -0.03400574  0.13036834 -0.49724178 -1.90936453 -1.60303102\n",
            " -0.88576232 -0.3328677  -0.09004236 -0.11992855  0.64964099  0.5749255\n",
            "  1.27351532 -1.26681132  1.74048713  0.35077903 -0.48603445 -0.21332292\n",
            "  0.48526691 -1.58435215 -0.94927049  0.80280774 -0.06762771 -1.12485189\n",
            " -0.04894884  0.93729562  1.82640995 -0.11245701  0.61975479  0.45911649\n",
            " -1.00904288  0.14157566  0.15278298 -0.25441644 -0.28803841 -1.24439667\n",
            "  0.37319368  0.76171422  0.61975479  1.0568404  -0.02279842 -1.76366932\n",
            "  0.48526691  0.81401506 -1.05760795  0.24617734 -1.78981974  1.82640995\n",
            " -1.45733582  0.04444552 -0.86708345 -0.95300626 -0.02653419 -0.40758319\n",
            "  1.34823081 -0.11245701 -1.05760795  0.10421791  0.38066523  0.62349057\n",
            "  1.06431195 -0.23200179 -1.1958316  -0.20585137 -0.39637587 -0.17970095\n",
            "  0.0481813  -0.25441644 -0.08257081 -0.72138824  0.97838914 -0.37769699\n",
            "  1.56490573 -1.4012992   1.04189731  0.76171422  1.11287702 -0.48977023\n",
            " -1.09870147  0.82522239  0.41055142  0.9410314  -0.34407502 -1.46480737\n",
            "  1.82640995 -0.04894884 -1.21451048 -1.17715273 -0.42626206  0.25364889\n",
            " -1.31911216  0.0182951   0.89993788 -1.12485189]\n"
          ]
        }
      ]
    },
    {
      "cell_type": "code",
      "metadata": {
        "id": "AElDSdKvgYf-",
        "colab": {
          "base_uri": "https://localhost:8080/",
          "height": 282
        },
        "outputId": "2374dc39-ad34-459b-b879-358654f141ca"
      },
      "source": [
        "plt.plot(model.predict(x_test),label='predict')\n",
        "plt.plot(y_test, label='real value')\n",
        "#plt.plot(model.predict(x_test)-y_test)\n",
        "plt.xlim(0,50)\n",
        "plt.legend()\n",
        "plt.show"
      ],
      "execution_count": null,
      "outputs": [
        {
          "output_type": "execute_result",
          "data": {
            "text/plain": [
              "<function matplotlib.pyplot.show>"
            ]
          },
          "metadata": {},
          "execution_count": 31
        },
        {
          "output_type": "display_data",
          "data": {
            "image/png": "[encoded data removed]",
            "text/plain": [
              "<Figure size 432x288 with 1 Axes>"
            ]
          },
          "metadata": {
            "needs_background": "light"
          }
        }
      ]
    }
  ]
}